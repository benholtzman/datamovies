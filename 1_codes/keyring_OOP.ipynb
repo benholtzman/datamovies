{
 "cells": [
  {
   "cell_type": "code",
   "execution_count": 187,
   "metadata": {},
   "outputs": [],
   "source": [
    "\n",
    "import numpy as np\n",
    "\n",
    "import matplotlib.pyplot as plt\n",
    "from matplotlib import cm # colormap ! \n",
    "from matplotlib.patches import Circle\n",
    "import matplotlib.patches as patches\n",
    "\n",
    "from scipy.signal import resample\n",
    "from scipy.io.wavfile import write\n",
    "\n",
    "from subprocess import Popen\n",
    "import subprocess as sp\n",
    "import os\n",
    "\n",
    "from importlib import reload\n",
    "import note_class as nc\n",
    "\n",
    "import sys\n",
    "sys.path.append('../2_modules/')\n",
    "import pitches as pitch_fcns\n",
    "#import IPython.display as ipd"
   ]
  },
  {
   "cell_type": "code",
   "execution_count": 188,
   "metadata": {},
   "outputs": [],
   "source": [
    "# ===========================================================\n",
    "base_name = 'keyring_OOP_test'\n",
    "frames_dir = './frames/'\n",
    "anim_out_name = frames_dir + base_name + '.mp4' \n",
    "sound_name = base_name + '.wav'\n",
    "movie_w_sound_name = base_name + '_wSnd.avi'"
   ]
  },
  {
   "cell_type": "code",
   "execution_count": null,
   "metadata": {},
   "outputs": [],
   "source": []
  },
  {
   "cell_type": "code",
   "execution_count": 189,
   "metadata": {},
   "outputs": [
    {
     "name": "stdout",
     "output_type": "stream",
     "text": [
      "[3 3 3 3 3 3 3 4]\n"
     ]
    }
   ],
   "source": [
    "pitch_classes = ['C','C#','D','D#','E','F','F#','G','G#','A','A#','B']\n",
    "radian = np.linspace(0,2*np.pi,len(pitch_classes)+1)\n",
    "\n",
    "pc_indexes = np.asarray([0,2,4,5,7,9,11,12])\n",
    "delta_octs = (np.floor(pc_indexes/ 12)).astype(int)\n",
    "root_oct = 3\n",
    "octs = root_oct + delta_octs\n",
    "print(octs)\n"
   ]
  },
  {
   "cell_type": "code",
   "execution_count": 190,
   "metadata": {},
   "outputs": [
    {
     "name": "stdout",
     "output_type": "stream",
     "text": [
      "<class 'numpy.ndarray'>\n",
      "['C', 'D', 'E', 'F', 'G', 'A', 'B', 'C']\n",
      "[0.0, 1.0471975511965976, 2.0943951023931953, 2.617993877991494, 3.665191429188092, 4.71238898038469, 5.759586531581287, 0.0]\n",
      "[ 1.          3.57142857  6.14285714  8.71428571 11.28571429 13.85714286\n",
      " 16.42857143 19.        ]\n"
     ]
    }
   ],
   "source": [
    "print(type(pc_indexes[:]))\n",
    "# T = [L[i] for i in Idx]\n",
    "key_pcs = []\n",
    "radian_vals = []\n",
    "for i in range(len(pc_indexes)):\n",
    "    ind = pc_indexes[i]%12\n",
    "    key_pcs.append(pitch_classes[ind])\n",
    "    radian_vals.append(radian[ind])\n",
    "    \n",
    "print(key_pcs)\n",
    "print(radian_vals)\n",
    "\n",
    "NameFreq_dict = pitch_fcns.pitch_dict()\n",
    "#print(NameFreq_dict)\n",
    "\n",
    "\n",
    "dur_song = 20\n",
    "delay = 1.0\n",
    "dur_total = dur_song+delay\n",
    "\n",
    "durs = np.ones(len(key_pcs))*2\n",
    "start_times = np.linspace(0,dur_song-durs[-1],len(key_pcs))+delay\n",
    "print(start_times)    "
   ]
  },
  {
   "cell_type": "code",
   "execution_count": 191,
   "metadata": {},
   "outputs": [
    {
     "name": "stdout",
     "output_type": "stream",
     "text": [
      "926100\n",
      "21.0\n"
     ]
    }
   ],
   "source": [
    "# make the soundtrack\n",
    "\n",
    "soundtrack = np.zeros(int(dur_total*sampfreq))\n",
    "time = np.linspace(0,dur_song+delay, int(dur_total*sampfreq))\n",
    "print(len(time))\n",
    "print(time[-1])"
   ]
  },
  {
   "cell_type": "code",
   "execution_count": 209,
   "metadata": {},
   "outputs": [
    {
     "name": "stdout",
     "output_type": "stream",
     "text": [
      "<module 'note_class' from '/home/ben/githole/datamovies/1_codes/note_class.py'>\n",
      "C3\n",
      "130.81\n",
      "D3\n",
      "146.83\n",
      "E3\n",
      "164.81\n",
      "F3\n",
      "174.61\n",
      "G3\n",
      "196.0\n",
      "A3\n",
      "220.0\n",
      "B3\n",
      "246.94\n",
      "C4\n",
      "261.63\n"
     ]
    }
   ],
   "source": [
    "reload(nc)\n",
    "print(nc)\n",
    "\n",
    "notes = []\n",
    "\n",
    "for ind in range(len(key_pcs)):\n",
    "    pc = key_pcs[ind]\n",
    "    oct_n=octs[ind]\n",
    "    sym_name = pc+str(oct_n)\n",
    "    print(sym_name)\n",
    "    freq = NameFreq_dict[sym_name]\n",
    "    print(freq)\n",
    "    t_start = start_times[ind]\n",
    "    ampfac=0.8\n",
    "    framerate=30.0\n",
    "    sampfreq=44100\n",
    "    dur=durs[ind] #2.0\n",
    "    nn = nc.Note(pc, oct_n, freq, t_start, dur, ampfac, framerate, sampfreq,radian)\n",
    "    notes.append(nn)\n",
    "\n",
    "#blobj = blob.Blob(df_tmp,movie_dict)"
   ]
  },
  {
   "cell_type": "code",
   "execution_count": 210,
   "metadata": {},
   "outputs": [
    {
     "data": {
      "text/plain": [
       "[<matplotlib.lines.Line2D at 0x7fd73b5c3050>]"
      ]
     },
     "execution_count": 210,
     "metadata": {},
     "output_type": "execute_result"
    },
    {
     "data": {
      "image/png": "[encoded data removed]",
      "text/plain": [
       "<Figure size 432x288 with 1 Axes>"
      ]
     },
     "metadata": {
      "needs_background": "light"
     },
     "output_type": "display_data"
    }
   ],
   "source": [
    "for nn in notes:\n",
    "    #print(nn.t_start)\n",
    "    ind_start = np.where(time>nn.t_start)[0][0]\n",
    "    #print(ind_start)\n",
    "    #print(time[ind_start])\n",
    "    beepwave = nn.beep\n",
    "    ind_end = ind_start + len(beepwave)\n",
    "    soundtrack[ind_start:ind_end] = nn.beep[:]\n",
    "    \n",
    "plt.plot(soundtrack)"
   ]
  },
  {
   "cell_type": "code",
   "execution_count": 211,
   "metadata": {},
   "outputs": [],
   "source": [
    "# save the file ! \n",
    "\n",
    "write(sound_name, sampfreq, soundtrack)"
   ]
  },
  {
   "cell_type": "markdown",
   "metadata": {},
   "source": [
    "## Now for the dots ! "
   ]
  },
  {
   "cell_type": "code",
   "execution_count": 215,
   "metadata": {},
   "outputs": [],
   "source": [
    "# =============================================\n",
    "def makeKeyRing_base(indexes):\n",
    "\n",
    "    circle = np.linspace(0,2*np.pi,64)\n",
    "    r = 1.0\n",
    "    x = r*np.sin(circle)\n",
    "    y = r*np.cos(circle)\n",
    "\n",
    "    # the note locations. \n",
    "    base_dots = np.linspace(0,2*np.pi,13)\n",
    "    xd = r*np.sin(base_dots)\n",
    "    yd = r*np.cos(base_dots)\n",
    "\n",
    "    # the text locations\n",
    "    r = 1.15\n",
    "    xt = r*np.sin(base_dots)\n",
    "    yt = r*np.cos(base_dots)\n",
    "\n",
    "    # =================\n",
    "    fig1 = plt.figure(figsize=(6, 6))\n",
    "    ax1 = fig1.add_subplot(111, aspect='equal')\n",
    "\n",
    "    # (0) plot a filled square with a filled circle in it...\n",
    "    # patches.Rectangle((x,y,lower left corner),width,height)\n",
    "    #ax1.add_patch(patches.Rectangle((0.1, 0.1),0.5,0.5,facecolor=\"red\"))\n",
    "\n",
    "    ax1.add_patch(patches.Rectangle((-1.25, -1.25),2.5,2.5,facecolor=[0.6, 0.6, 0.6]))\n",
    "    ax1.plot(x,y,'k-')\n",
    "    ax1.plot(xd,yd,'w.')\n",
    "\n",
    "    radius_norm = 0.08  # radius normalized, scaled to size of box\n",
    "\n",
    "    for ind,interval in enumerate(indexes):\n",
    "        # print(ind,interval)\n",
    "        ax1.add_patch(patches.Circle((xd[interval], yd[interval]),radius_norm,facecolor=\"red\")) \n",
    "        ax1.text(xt[interval], yt[interval],pitch_classes[interval])\n",
    "\n",
    "    # add current note !  \n",
    "    # posind = indexes[indnow]\n",
    "    # print(posind)\n",
    "    # ax1.add_patch(patches.Circle((xd[posind], yd[posind]),radius_norm*2,facecolor=\"yellow\",alpha=0.3))\n",
    "\n",
    "    ax1.get_xaxis().set_visible(False)\n",
    "    ax1.get_yaxis().set_visible(False)\n",
    "    return fig1, ax1"
   ]
  },
  {
   "cell_type": "code",
   "execution_count": 217,
   "metadata": {},
   "outputs": [
    {
     "data": {
      "image/png": "[encoded data removed]",
      "text/plain": [
       "<Figure size 432x432 with 1 Axes>"
      ]
     },
     "metadata": {
      "needs_background": "light"
     },
     "output_type": "display_data"
    }
   ],
   "source": [
    "indexes_ring = np.asarray([0,2,4,5,7,9,11])\n",
    "fig1, ax1 = makeKeyRing_base(indexes_ring) ;\n",
    "plt.show()"
   ]
  },
  {
   "cell_type": "code",
   "execution_count": 220,
   "metadata": {},
   "outputs": [
    {
     "name": "stdout",
     "output_type": "stream",
     "text": [
      "pc\n",
      "oct_n\n",
      "sym_name\n",
      "freq\n",
      "t_start\n",
      "dur\n",
      "ampfac\n",
      "framerate\n",
      "sampfreq\n",
      "n_frames\n",
      "time_frames\n",
      "amp_env_mov\n",
      "amp_env_sound\n",
      "beep\n",
      "current_index\n",
      "radian\n",
      "x\n",
      "y\n",
      "facecolor\n",
      "alpha\n",
      "dot_radius_current\n"
     ]
    }
   ],
   "source": [
    "# make total movie time! \n",
    "time_movie = np.linspace(0,dur_total,int(dur_total*framerate))\n",
    "\n",
    "\n",
    "for key in nn.__dict__:\n",
    "    print(key) \n",
    "    \n"
   ]
  },
  {
   "cell_type": "code",
   "execution_count": null,
   "metadata": {},
   "outputs": [],
   "source": [
    "dot = nn.updateDot()\n",
    "\n",
    "active_blobs = []\n",
    "\n",
    "\n",
    "\n",
    "# ax1.add_patch(dot)\n",
    "# fig.savefig('wheresmyDOT.png')\n",
    "# dot.remove()\n",
    "\n",
    "# from the blobs one ! \n",
    "for time in time_movie:\n",
    "    print(time)\n",
    "    dot_list=[]\n",
    "    remove_list=[]\n",
    "\n",
    "    for nn in notes:\n",
    "        if (str(nn.start_time()) == str(time)):\n",
    "            #print('start time = ' + str(obj.start_time()) ) \n",
    "            active_blobs.append(obj)\n",
    "    for obj in active_blobs:\n",
    "        print('end time = ' + str(obj.end_time()) + ', time =' + str(time) ) \n",
    "        #if(str(obj.end_time()) == str(time)):  \n",
    "        if( obj.current_index == len(obj.x_stg)-1 ):\n",
    "            remove_list.append(obj)\n",
    "            print('JUST ADDED BLOB TO REMOVE LIST')\n",
    "    if len(remove_list)>0:\n",
    "        for byebye in remove_list:\n",
    "            print('JUST REMOVED BLOB FROM ACTIVE BLOB LIST')\n",
    "            print(byebye)\n",
    "            active_blobs.remove(byebye)\n",
    "    print(active_blobs)\n",
    "    print(remove_list)\n",
    "\n",
    "    print('number of active blobs: '+str(len(active_blobs)))       \n",
    "    if len(active_blobs)>0:      \n",
    "        for obj in active_blobs:\n",
    "            #dot = obj.update_location(ax, movie_dict)\n",
    "            dot = obj.update_location(movie_dict)\n",
    "            #print(type(dot))\n",
    "            dot_list.append(dot)\n",
    "            # x, y, rad, col, alf = obj.update_location(ax, movie_dict)\n",
    "            # x_lst.append(x)\n",
    "            # y_lst.append(y)\n",
    "            # rad_lst.append(rad)\n",
    "            # col_lst.append(col)\n",
    "            # alf_lst.append(alf)\n",
    "\n",
    "    print('dots in dot_list: '+str(len(dot_list))) \n",
    "    if len(dot_list)>0:\n",
    "        for dot in dot_list:\n",
    "            print('adding dots to plot')\n",
    "            ax.add_patch(dot)  # or make a collection -- eventually.. more complicated. \n",
    "        #pts = ax.scatter(x_lst, y_lst, col_lst, edgecolor='black', s=rad_lst, alpha=alf_lst)\n",
    "        # scatter cant change have an array of dot sizes ! \n",
    "\n",
    "    writer.grab_frame()\n",
    "\n",
    "    if len(ax.patches)>0:\n",
    "        #ax.patches = []\n",
    "        for dot in ax.patches:\n",
    "            #ax.remove()\n",
    "            dot.remove()\n",
    "        print(ax.patches)\n",
    "\n",
    "    #ax.collections.remove(pts)\n",
    "    #if dotsNow:\n",
    "    #    dotsNow.remove()\n",
    "    # bh: see question above... \n",
    "    reset_axes(ax)\n"
   ]
  },
  {
   "cell_type": "code",
   "execution_count": null,
   "metadata": {},
   "outputs": [],
   "source": []
  }
 ],
 "metadata": {
  "kernelspec": {
   "display_name": "Python 3",
   "language": "python",
   "name": "python3"
  },
  "language_info": {
   "codemirror_mode": {
    "name": "ipython",
    "version": 3
   },
   "file_extension": ".py",
   "mimetype": "text/x-python",
   "name": "python",
   "nbconvert_exporter": "python",
   "pygments_lexer": "ipython3",
   "version": "3.7.6"
  }
 },
 "nbformat": 4,
 "nbformat_minor": 4
}
