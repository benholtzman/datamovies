{
 "cells": [
  {
   "cell_type": "markdown",
   "metadata": {},
   "source": [
    "##  Pitches, scales, elements, frequencies, etc... \n",
    "### (1) Frequencies and tonal relationships\n",
    "### (2) Visualizing tonal relationships \n",
    "### (3) Pitch wheels\n",
    "### (4) Modes -- Dictionaries and lists\n",
    "### (5) Generating tones (without RTcmix)\n",
    "### (6) Generating RTcmix scores from lists of pitches"
   ]
  },
  {
   "cell_type": "code",
   "execution_count": 5,
   "metadata": {},
   "outputs": [
    {
     "name": "stdout",
     "output_type": "stream",
     "text": [
      "CMIX found.\n"
     ]
    }
   ],
   "source": [
    "import numpy as np\n",
    "import matplotlib.pyplot as plt\n",
    "%matplotlib inline\n",
    "\n",
    "from subprocess import Popen\n",
    "import subprocess as sp\n",
    "import os\n",
    "\n",
    "import librosa\n",
    "import sys\n",
    "sys.path.append('./modules/')\n",
    "\n",
    "# _ac stands for autocheck\n",
    "cmixStatus, cmixResult = sp.getstatusoutput(\"CMIX\")\n",
    "if cmixStatus == 0:\n",
    "    cmixInstalled = True\n",
    "    print(\"CMIX found.\")\n",
    "else:\n",
    "    cmixInstalled = False\n",
    "    print(\"CMIX not found, using pyGoRTcmix instead.\")"
   ]
  },
  {
   "cell_type": "markdown",
   "metadata": {},
   "source": [
    "# ==============================================\n",
    "# (1) frequencies and tonal relationships"
   ]
  },
  {
   "cell_type": "markdown",
   "metadata": {},
   "source": [
    "In s00_make_simple_sounds.ipynb, we made simple tones and chords from sine wave oscillators. \n",
    "Here, we will start with a little bit of music theory,\n",
    "using loops to make sequences of tones of different pitch (scales! arpeggios!)\n",
    "and then do the same thing using RTcmix, as an introduction. \n",
    "\n",
    "This notebook also sneaks in some intro to essential python elements: dictionaries, functions and loops. \n",
    "\n",
    "Refs: \n",
    "Hermann Helmholtz \"On the Sensations of Tone\" 1863 !! \n",
    "Gareth Loy \"Musimathics, vol. 1\" 2006"
   ]
  },
  {
   "cell_type": "code",
   "execution_count": 6,
   "metadata": {},
   "outputs": [
    {
     "name": "stdout",
     "output_type": "stream",
     "text": [
      "[  220.   440.   880.  1760.]\n",
      "[  220.   440.   880.  1760.]\n"
     ]
    }
   ],
   "source": [
    "# Octaves\n",
    "root = 220. # \"A3\"\n",
    "\n",
    "# octaves, by multi[;ication of integers (powers of 2): \n",
    "octs = np.array([1,2,4,8]) # four octaves\n",
    "freqs = root*octs\n",
    "print(freqs)\n",
    "\n",
    "#same octaves, by integer exponents of base 2. \n",
    "octs_exp = np.array([0,1,2,3])\n",
    "freqs = root*2**octs_exp\n",
    "print(freqs)\n"
   ]
  },
  {
   "cell_type": "markdown",
   "metadata": {},
   "source": [
    "### Equal temperament (modern western instruments): \n",
    "\n",
    "In classical western music, the octave is divided into 12 equal-sized \"semi-tone\" intervals: <br>\n",
    "$f = f_0*2^{v+k/12}$ <br>\n",
    "$v$ is an integer that marks how many octaves you are above $f_0$ <br>\n",
    "$k$ are integers that give you the number of intervals of the 12 that make the octave. <br>\n",
    "\n",
    "\n"
   ]
  },
  {
   "cell_type": "code",
   "execution_count": 7,
   "metadata": {},
   "outputs": [
    {
     "name": "stdout",
     "output_type": "stream",
     "text": [
      "[ 0  1  2  3  4  5  6  7  8  9 10 11]\n",
      "all semi-tones:\n",
      "[ 220.          233.08188076  246.94165063  261.6255653   277.18263098\n",
      "  293.66476792  311.12698372  329.62755691  349.22823143  369.99442271\n",
      "  391.99543598  415.30469758]\n",
      "major scale:\n",
      "[ 0  2  4  5  7  9 11 12]\n",
      "[ 220.          246.94165063  277.18263098  293.66476792  329.62755691\n",
      "  369.99442271  415.30469758  440.        ]\n"
     ]
    }
   ],
   "source": [
    "k = np.arange(0,12,1) # this makes a numpy array. \n",
    "print(k)\n",
    "\n",
    "v = 0\n",
    "root = 220\n",
    "print('all semi-tones:')\n",
    "f = root*2**(v+k/12)\n",
    "print(f)\n",
    "\n",
    "print('major scale:')\n",
    "# intervals 2,2,1,2,2,2,1 \n",
    "major = np.array([0,2,4,5,7,9,11,12])\n",
    "print(major)\n",
    "f = root*2**(v+major/12)\n",
    "print(f)"
   ]
  },
  {
   "cell_type": "code",
   "execution_count": 8,
   "metadata": {},
   "outputs": [
    {
     "data": {
      "image/png": "[encoded data removed]",
      "text/plain": [
       "<Figure size 360x360 with 1 Axes>"
      ]
     },
     "metadata": {},
     "output_type": "display_data"
    }
   ],
   "source": [
    "fig = plt.figure(figsize=(5,5))\n",
    "plt.plot(major,f, 'ro')\n",
    "plt.xlabel('scale element')\n",
    "plt.ylabel('frequency')\n",
    "plt.show()"
   ]
  },
  {
   "cell_type": "markdown",
   "metadata": {},
   "source": [
    "### Just intonation (sounds better !?!?)\n",
    "made from ratios of small integers\n",
    "2/1, 3/2, 4/3, 5/4, 6/5 ;\n",
    "octave, fifth, fourth, major third, minor third. \n",
    "then sort by increasing value! "
   ]
  },
  {
   "cell_type": "code",
   "execution_count": 9,
   "metadata": {},
   "outputs": [
    {
     "name": "stdout",
     "output_type": "stream",
     "text": [
      "the ratios of just intonation for octave, fifth, fourth, major third, minor third:\n",
      "[ 2.          1.5         1.33333333  1.25        1.2       ]\n",
      "rearranged to minor third, major third, fourth, fifth, octave:\n",
      "[ 1.2         1.25        1.33333333  1.5         2.        ]\n",
      "add the root note:\n",
      "[ 1.          1.2         1.25        1.33333333  1.5         2.        ]\n",
      "compare to the equal tempered ratios:\n",
      "[ 1.          1.18920712  1.25992105  1.33483985  1.49830708  2.        ]\n",
      "Can we hear the difference?\n"
     ]
    }
   ],
   "source": [
    "top = np.array([2,3,4,5,6])\n",
    "bot = top-1 \n",
    "just_ratios = top/bot\n",
    "\n",
    "print('the ratios of just intonation for octave, fifth, fourth, major third, minor third:')\n",
    "print(just_ratios)\n",
    "\n",
    "print('rearranged to minor third, major third, fourth, fifth, octave:')\n",
    "scale3458_just = np.sort(just_ratios)\n",
    "print(scale3458_just)\n",
    "\n",
    "print('add the root note:')\n",
    "scale13m3M458_just = np.append(1, scale3458_just)\n",
    "print(scale13m3M458_just)\n",
    "\n",
    "print('compare to the equal tempered ratios:')\n",
    "ints13m3M458_eqt = np.array([0,3,4,5,7,12])\n",
    "scale13m3M458_eqt = 2**(ints13m3M458_eqt/12)\n",
    "print(scale13m3M458_eqt)\n",
    "\n",
    "print('Can we hear the difference?')"
   ]
  },
  {
   "cell_type": "code",
   "execution_count": 10,
   "metadata": {},
   "outputs": [
    {
     "name": "stdout",
     "output_type": "stream",
     "text": [
      "<class 'numpy.ndarray'>\n",
      "1.11111111111\n",
      "[  0.           1.11111111   2.22222222   3.33333333   4.44444444\n",
      "   5.55555556   6.66666667   7.77777778   8.88888889  10.        ]\n"
     ]
    },
    {
     "data": {
      "image/png": "[encoded data removed]",
      "text/plain": [
       "<Figure size 360x360 with 1 Axes>"
      ]
     },
     "metadata": {},
     "output_type": "display_data"
    }
   ],
   "source": [
    "# CONVERT THOSE RATIOS TO FREQUENCIES !\n",
    "f0 = 440 \n",
    "f_133458_just = f0*scale13m3M458_just\n",
    "f_133458_eqt = f0*scale13m3M458_eqt\n",
    "print(type(f_133458_eqt))\n",
    "\n",
    "# delete the major or minor thirds\n",
    "min_ind = 1\n",
    "maj_ind = 2\n",
    "f_13458_eqt = np.delete(f_133458_eqt,[min_ind])  #np.delete(values,[3,4,1])\n",
    "f_13458_just = np.delete(f_133458_just,[min_ind]) \n",
    "\n",
    "freqs = np.concatenate((f_13458_just,f_13458_eqt))\n",
    "# MAKE a TIME array ! \n",
    "# use arange for integers !\n",
    "# use linspace for non-integer increments\n",
    "sound_dur = 10\n",
    "time = np.linspace(0,sound_dur,len(freqs)) \n",
    "dur = time[2] - time[1]\n",
    "print(dur)\n",
    "print(time)\n",
    "\n",
    "fig = plt.figure(figsize=(5,5))\n",
    "plt.plot(scale13m3M458_eqt,f_133458_eqt, 'ro')\n",
    "plt.plot(scale13m3M458_just,f_133458_just, 'bo')\n",
    "plt.xlabel('interval')\n",
    "plt.ylabel('frequency')\n",
    "plt.show()"
   ]
  },
  {
   "cell_type": "markdown",
   "metadata": {},
   "source": [
    "# ===============================================\n",
    "# (2) Visualizing tonal relationships ! "
   ]
  },
  {
   "cell_type": "code",
   "execution_count": 11,
   "metadata": {},
   "outputs": [
    {
     "name": "stdout",
     "output_type": "stream",
     "text": [
      "[ 0  1  2  3  4  5  6  7  8  9 10 11 12 13 14 15 16 17 18 19 20 21 22 23 24\n",
      " 25 26 27 28 29 30 31 32 33 34 35 36 37 38 39 40 41 42 43 44 45 46 47 48]\n"
     ]
    }
   ],
   "source": [
    "n_oct = 2\n",
    "n_ints_scl = 24\n",
    "pitches = np.arange(n_oct*n_ints_scl+1)\n",
    "print(pitches)"
   ]
  },
  {
   "cell_type": "code",
   "execution_count": 12,
   "metadata": {},
   "outputs": [
    {
     "name": "stdout",
     "output_type": "stream",
     "text": [
      "[  440.           466.16376152   493.88330126   523.2511306    554.36526195\n",
      "   587.32953583   622.25396744   659.25511383   698.45646287   739.98884542\n",
      "   783.99087196   830.60939516   880.           932.32752304   987.76660251\n",
      "  1046.5022612   1108.73052391  1174.65907167  1244.50793489  1318.51022765\n",
      "  1396.91292573  1479.97769085  1567.98174393  1661.21879032  1760.\n",
      "  1864.65504607  1975.53320502  2093.0045224   2217.46104781  2349.31814334\n",
      "  2489.01586978  2637.0204553   2793.82585146  2959.95538169  3135.96348785\n",
      "  3322.43758064  3520.          3729.31009214  3951.06641005  4186.00904481\n",
      "  4434.92209563  4698.63628668  4978.03173955  5274.04091061  5587.65170293\n",
      "  5919.91076339  6271.92697571  6644.87516128  7040.        ]\n"
     ]
    }
   ],
   "source": [
    "f0 = 440.0 \n",
    "k = pitches\n",
    "freqs = f0*2**(k/12)\n",
    "print(freqs)"
   ]
  },
  {
   "cell_type": "code",
   "execution_count": 13,
   "metadata": {
    "collapsed": true
   },
   "outputs": [],
   "source": [
    "v = -1 # octave shift down from root (tonic)\n",
    "freqs = f0*2**(v+k/12)"
   ]
  },
  {
   "cell_type": "code",
   "execution_count": 14,
   "metadata": {},
   "outputs": [
    {
     "data": {
      "image/png": "[encoded data removed]",
      "text/plain": [
       "<Figure size 360x360 with 1 Axes>"
      ]
     },
     "metadata": {},
     "output_type": "display_data"
    }
   ],
   "source": [
    "fig = plt.figure(figsize=(5,5))\n",
    "plt.plot(pitches,freqs, 'ro')\n",
    "plt.xlabel('pitch number')\n",
    "plt.ylabel('frequency')\n",
    "plt.show()"
   ]
  },
  {
   "cell_type": "markdown",
   "metadata": {},
   "source": [
    "# =============================================================================\n",
    "# (3) PITCH WHEELS"
   ]
  },
  {
   "cell_type": "code",
   "execution_count": 15,
   "metadata": {
    "collapsed": true
   },
   "outputs": [],
   "source": [
    "import matplotlib.patches as patches\n",
    "\n",
    "def makePitchRing(indexes):\n",
    "    circle = np.linspace(0,2*np.pi,64)\n",
    "    r = 1.0\n",
    "    x = r*np.sin(circle)\n",
    "    y = r*np.cos(circle)\n",
    "\n",
    "    # the note locations. \n",
    "    base_dots = np.linspace(0,2*np.pi,13)\n",
    "    xd = r*np.sin(base_dots)\n",
    "    yd = r*np.cos(base_dots)\n",
    "\n",
    "    # the text locations\n",
    "    r = 1.15\n",
    "    xt = r*np.sin(base_dots)\n",
    "    yt = r*np.cos(base_dots)\n",
    "\n",
    "    # ========================\n",
    "    fig1 = plt.figure()\n",
    "    ax1 = fig1.add_subplot(111, aspect='equal')\n",
    "\n",
    "    # (0) plot a filled square with a filled circle in it...\n",
    "    # patches.Rectangle((x,y,lower left corner),width,height)\n",
    "    #ax1.add_patch(patches.Rectangle((0.1, 0.1),0.5,0.5,facecolor=\"red\"))\n",
    "\n",
    "    ax1.add_patch(patches.Rectangle((-1.25, -1.25),2.5,2.5,facecolor=[0.6, 0.6, 0.6]))\n",
    "    ax1.plot(x,y,'k-')\n",
    "    ax1.plot(xd,yd,'w.')\n",
    "\n",
    "    radius_norm = 0.08  # radius normalized, scaled to size of box\n",
    "\n",
    "    for ind,interval in enumerate(indexes):\n",
    "        # print(ind,interval)\n",
    "        ax1.add_patch(patches.Circle((xd[interval], yd[interval]),radius_norm,facecolor=\"red\")) \n",
    "        ax1.text(xt[interval], yt[interval],pitch_classes[interval])\n",
    "        \n",
    "    ax1.get_xaxis().set_visible(False)\n",
    "    ax1.get_yaxis().set_visible(False)\n",
    "    plt.show()\n"
   ]
  },
  {
   "cell_type": "code",
   "execution_count": 16,
   "metadata": {},
   "outputs": [
    {
     "data": {
      "image/png": "[encoded data removed]",
      "text/plain": [
       "<Figure size 432x288 with 1 Axes>"
      ]
     },
     "metadata": {},
     "output_type": "display_data"
    }
   ],
   "source": [
    "pitch_classes = ['c','c#','d','d#','e','f','f#','g','g#','a','a#','b']\n",
    "indexes = [0,2,4,5,7,9,11]\n",
    "makePitchRing(indexes)"
   ]
  },
  {
   "cell_type": "code",
   "execution_count": 17,
   "metadata": {},
   "outputs": [
    {
     "name": "stdout",
     "output_type": "stream",
     "text": [
      "261.6255653005986\n",
      "[ 0  1  2  3  4  5  6  7  8  9 10 11]\n",
      "[ 261.6255653   277.18263098  293.66476792  311.12698372  329.62755691\n",
      "  349.22823143  369.99442271  391.99543598  415.30469758  440.\n",
      "  466.16376152  493.88330126]\n"
     ]
    }
   ],
   "source": [
    "# Now lets make a sort of data base for pitches... \n",
    "# to connect names to pitches, \n",
    "# and \n",
    "\n",
    "C4 = 440.0 * 2**(3/12-1)\n",
    "print(C4)\n",
    "\n",
    "def notenum2freq(k,v,f0):\n",
    "    freqs = f0*2**(v+k/12)\n",
    "    return freqs\n",
    "\n",
    "ints = np.arange(12)\n",
    "print(ints)\n",
    "ref_scale_freqs = notenum2freq(ints,0,C4)\n",
    "print(ref_scale_freqs)"
   ]
  },
  {
   "cell_type": "code",
   "execution_count": 18,
   "metadata": {
    "collapsed": true
   },
   "outputs": [],
   "source": [
    "# using dictionaries: \n",
    "# https://learnpythonthehardway.org/book/ex39.html\n",
    "# https://jeffknupp.com/blog/2015/08/30/python-dictionaries/\n",
    "\n",
    "# a list of dictionaries: \n",
    "# http://stackoverflow.com/questions/19577258/python-analog-to-matlab-data-structure\n",
    "# database.append({'E': 17e4, 'var2': 'C:\\\\data file path', 'var3': [1, 2, 3, 4]})\n",
    "pitch_classes = ['c','c#','d','d#','e','f','f#','g','g#','a','a#','b']\n",
    "\n",
    "# does it make any sense to make a dictionary here?\n",
    "#pitches_midC_ref = {'pitches':pitch_classes, 'freqs':ref_scale_freqs }\n",
    "#pitch_names = pitches_midC_ref['pitches']\n",
    "#freqs = pitches_midC_ref['freqs']\n"
   ]
  },
  {
   "cell_type": "code",
   "execution_count": 19,
   "metadata": {},
   "outputs": [
    {
     "name": "stdout",
     "output_type": "stream",
     "text": [
      "('c', 261.62556530059862)\n",
      "('c#', 277.18263097687208)\n",
      "('d', 293.66476791740757)\n",
      "('d#', 311.12698372208087)\n",
      "('e', 329.62755691286992)\n",
      "('f', 349.22823143300388)\n",
      "('f#', 369.9944227116344)\n",
      "('g', 391.99543598174927)\n",
      "('g#', 415.30469757994507)\n",
      "('a', 439.99999999999994)\n",
      "('a#', 466.16376151808987)\n",
      "('b', 493.88330125612407)\n",
      "c : 261.625565301\n",
      "c# : 277.182630977\n",
      "d : 293.664767917\n",
      "d# : 311.126983722\n",
      "e : 329.627556913\n",
      "f : 349.228231433\n",
      "f# : 369.994422712\n",
      "g : 391.995435982\n",
      "g# : 415.30469758\n",
      "a : 440.0\n",
      "a# : 466.163761518\n",
      "b : 493.883301256\n"
     ]
    }
   ],
   "source": [
    "for pair in zip(pitch_classes,ref_scale_freqs):\n",
    "    print(pair)\n",
    "\n",
    "for ind,pitchname in enumerate(pitch_classes):\n",
    "    print(pitchname + ' : ' + str(ref_scale_freqs[ind]))\n",
    "    "
   ]
  },
  {
   "cell_type": "code",
   "execution_count": 20,
   "metadata": {},
   "outputs": [
    {
     "name": "stdout",
     "output_type": "stream",
     "text": [
      "{'c': 261.62556530059862, 'c#': 277.18263097687208, 'd': 293.66476791740757, 'd#': 311.12698372208087, 'e': 329.62755691286992, 'f': 349.22823143300388, 'f#': 369.9944227116344, 'g': 391.99543598174927, 'g#': 415.30469757994507, 'a': 439.99999999999994, 'a#': 466.16376151808987, 'b': 493.88330125612407}\n"
     ]
    }
   ],
   "source": [
    "# or make a dictionary ! \n",
    "pitch_freq_ref = dict(zip(pitch_classes,ref_scale_freqs))\n",
    "\n",
    "pitch_freq_ref\n",
    "print(pitch_freq_ref)\n"
   ]
  },
  {
   "cell_type": "code",
   "execution_count": 21,
   "metadata": {},
   "outputs": [
    {
     "name": "stdout",
     "output_type": "stream",
     "text": [
      "============== CALL ONE PITCH NAME ============\n",
      "C4 = 261.625565301\n"
     ]
    }
   ],
   "source": [
    "# is this actually C4 ? \n",
    "print('============== CALL ONE PITCH NAME ============')\n",
    "C4 = pitch_freq_ref['c']\n",
    "print('C4 = '+ str(C4))"
   ]
  },
  {
   "cell_type": "markdown",
   "metadata": {},
   "source": [
    "# =============================================\n",
    "# (4) Modes -- Dictionaries and lists"
   ]
  },
  {
   "cell_type": "code",
   "execution_count": 22,
   "metadata": {},
   "outputs": [
    {
     "name": "stdout",
     "output_type": "stream",
     "text": [
      "7\n"
     ]
    }
   ],
   "source": [
    "# NOW LETS MAKE DICTIONARIES FOR THE MODES !! \n",
    "\n",
    "modes = {\n",
    "    'ionian':[2,2,1,2,2,2,1],\n",
    "    'dorian':[2,1,2,2,2,1,2],\n",
    "    'phrygian':[1,2,2,2,1,2,2],\n",
    "    'lydian':[2,2,2,1,2,2,1],\n",
    "    'mixolydian':[2,2,1,2,2,1,2],\n",
    "    'aeolian':[2,1,2,2,1,2,2],\n",
    "    'lochrian':[1,2,2,1,2,2,2]\n",
    "}\n",
    "\n",
    "print(len(modes))"
   ]
  },
  {
   "cell_type": "code",
   "execution_count": 23,
   "metadata": {},
   "outputs": [
    {
     "name": "stdout",
     "output_type": "stream",
     "text": [
      "[1, 2, 2, 2, 1, 2, 2]\n",
      "[ 1  3  5  7  8 10 12]\n",
      "<class 'numpy.ndarray'>\n"
     ]
    }
   ],
   "source": [
    "# calculate the elements of the scale from the intervals (a sort of integral): \n",
    "\n",
    "intervals = modes['phrygian']\n",
    "print(intervals)\n",
    "\n",
    "x = np.cumsum(intervals)\n",
    "print(x)\n",
    "indexes2 = [0]\n",
    "for val in x[:-1]:\n",
    "    indexes2.append(val)\n",
    "\n",
    "indexes2 = np.array(indexes2)\n",
    "print(type(indexes2))"
   ]
  },
  {
   "cell_type": "code",
   "execution_count": 24,
   "metadata": {},
   "outputs": [
    {
     "data": {
      "image/png": "[encoded data removed]",
      "text/plain": [
       "<Figure size 432x288 with 1 Axes>"
      ]
     },
     "metadata": {},
     "output_type": "display_data"
    }
   ],
   "source": [
    "makePitchRing(indexes2)"
   ]
  },
  {
   "cell_type": "markdown",
   "metadata": {},
   "source": [
    "# =======================================================================\n",
    "# (5) Generating Beeps ! "
   ]
  },
  {
   "cell_type": "code",
   "execution_count": 25,
   "metadata": {},
   "outputs": [],
   "source": [
    "# define the function for making the ENVELOPE\n",
    "#  peak position [0,1] \n",
    "def make_envelope_3pt(y,peak_posn):\n",
    "    N = len(y)\n",
    "    envelope = np.zeros(N)\n",
    "    #print(envelope.shape)\n",
    "    peak = int(N*peak_posn)\n",
    "    #print(peak)\n",
    "\n",
    "    # from 0 to the peak index (peak):\n",
    "    up = np.linspace(0,1,peak)\n",
    "    #print(up.shape)\n",
    "    envelope[:peak] = up\n",
    "\n",
    "    # and fill in the rest: \n",
    "    down = np.linspace(1,0,(N-peak))\n",
    "    #print(down.shape)\n",
    "    envelope[peak:] = down\n",
    "    \n",
    "    return envelope\n",
    "\n",
    "# there is a much shorter and more elegant way to do this, actually many ! \n",
    "# make one using np.interp with the time vector of the signal to modulate! "
   ]
  },
  {
   "cell_type": "code",
   "execution_count": 26,
   "metadata": {},
   "outputs": [],
   "source": [
    "# define the function for MAKING THE BEEP, then taking in the envelope\n",
    "# inputs f, dur\n",
    "\n",
    "def make_oscillator(f,dur):\n",
    "    n_cycles = f*dur # [cycles/sec]*[sec]\n",
    "    fs = 44100 # just make it at 44100.. why not?! \n",
    "    npts = int(fs*dur)\n",
    "    \n",
    "    time = np.linspace(0,dur,npts)\n",
    "    env = np.interp(time, [0,0.05*dur,0.95*dur,dur], [0,1,1,0])\n",
    "    x = np.linspace(0,2*np.pi*n_cycles,npts)\n",
    "    y = np.sin(x)\n",
    "    y = env*y\n",
    "    return time,y\n"
   ]
  },
  {
   "cell_type": "code",
   "execution_count": 27,
   "metadata": {},
   "outputs": [
    {
     "data": {
      "text/plain": [
       "[<matplotlib.lines.Line2D at 0x11190e860>]"
      ]
     },
     "execution_count": 27,
     "metadata": {},
     "output_type": "execute_result"
    },
    {
     "data": {
      "image/png": "[encoded data removed]",
      "text/plain": [
       "<Figure size 432x288 with 1 Axes>"
      ]
     },
     "metadata": {},
     "output_type": "display_data"
    }
   ],
   "source": [
    "f = 120.0\n",
    "dur = 2.0\n",
    "time,y = make_oscillator(f,dur)\n",
    "plt.plot(time,y)"
   ]
  },
  {
   "cell_type": "code",
   "execution_count": 28,
   "metadata": {},
   "outputs": [
    {
     "name": "stdout",
     "output_type": "stream",
     "text": [
      "C4 = 261.625565301\n",
      "<class 'numpy.ndarray'>\n",
      "[ 261.6255653   327.03195663  348.83408707  392.43834795  523.2511306 ]\n",
      "[ 261.6255653   329.62755691  349.22823143  391.99543598  523.2511306 ]\n"
     ]
    }
   ],
   "source": [
    "# loop over the scale to generate the beep sequence\n",
    "# CONVERT THOSE RATIOS TO FREQUENCIES !\n",
    "C4 = pitch_freq_ref['c']\n",
    "print('C4 = '+ str(C4))\n",
    "\n",
    "f0 = C4 \n",
    "f_133458_just = f0*scale13m3M458_just\n",
    "f_133458_eqt = f0*scale13m3M458_eqt\n",
    "print(type(f_133458_eqt))\n",
    "\n",
    "# delete the major or minor thirds\n",
    "min_ind = 1\n",
    "maj_ind = 2\n",
    "f_13458_eqt = np.delete(f_133458_eqt,[min_ind]) \n",
    "f_13458_just = np.delete(f_133458_just,[min_ind]) \n",
    "\n",
    "freqs = np.concatenate((f_13458_just,f_13458_eqt))\n",
    "print(f_13458_just)\n",
    "print(f_13458_eqt)"
   ]
  },
  {
   "cell_type": "code",
   "execution_count": 29,
   "metadata": {},
   "outputs": [],
   "source": [
    "dur = 1.4\n",
    "\n",
    "waveform = np.zeros(1)\n",
    "for ff in freqs:\n",
    "    time,y = make_oscillator(ff,dur)\n",
    "    beep = y\n",
    "    waveform = np.hstack((waveform,beep))"
   ]
  },
  {
   "cell_type": "code",
   "execution_count": 30,
   "metadata": {},
   "outputs": [
    {
     "data": {
      "text/plain": [
       "[<matplotlib.lines.Line2D at 0x1123a5908>]"
      ]
     },
     "execution_count": 30,
     "metadata": {},
     "output_type": "execute_result"
    },
    {
     "data": {
      "image/png": "[encoded data removed]",
      "text/plain": [
       "<Figure size 432x288 with 1 Axes>"
      ]
     },
     "metadata": {},
     "output_type": "display_data"
    }
   ],
   "source": [
    "plt.plot(waveform)"
   ]
  },
  {
   "cell_type": "code",
   "execution_count": 40,
   "metadata": {},
   "outputs": [],
   "source": [
    "DirOut = '../3_output_nogit/'\n",
    "OutFileName = 'scales1_noRT.wav'\n",
    "fs_sound = 44100\n",
    "librosa.output.write_wav(DirOut + OutFileName, waveform, fs_sound, norm=False)"
   ]
  },
  {
   "cell_type": "code",
   "execution_count": null,
   "metadata": {},
   "outputs": [],
   "source": []
  },
  {
   "cell_type": "markdown",
   "metadata": {},
   "source": [
    "# ==========================================================\n",
    "# (6) generating RTcmix scores from simple lists of pitches\n",
    "### same as above but with RTcmix"
   ]
  },
  {
   "cell_type": "code",
   "execution_count": 45,
   "metadata": {
    "collapsed": true
   },
   "outputs": [],
   "source": [
    "# FUNCTION FOR GENERATING THE RTcmix score ! \n",
    "\n",
    "def makeSimpleScore(base_name,time,freqs):\n",
    "    # ====================\n",
    "    score_name = base_name + '.sco'\n",
    "    print(score_name)\n",
    "    f_out = open(\"./\" + score_name , 'w')\n",
    "    # YOU MUST DELETE THE SOUND FILE BEFORE RUNNING (either with python or with -clobber )\n",
    "    f_out.write(\"set_option(\\\"clobber = on\\\")\")\n",
    "\n",
    "    f_out.write(\"rtsetparams(44100, 1)\\n\")\n",
    "    f_out.write(\"load(\\\"WAVETABLE\\\")\\n\")\n",
    "\n",
    "    # output_string = 'rtoutput(\\\"' + base_name + '.wav\\\")\\n'  \n",
    "    # don't need the brackets to make it an array ! \n",
    "    # f_out.write(output_string)\n",
    "\n",
    "    #----------------------CHECK IF CMIX COMMAND IS INSTALLED-----------------------\n",
    "    #only use rtoutput if CMIX command is found.\n",
    "    cmixStatus, cmixResult = sp.getstatusoutput(\"CMIX\")\n",
    "    #the cmixInstalled variable can also be passed from the notebook\n",
    "    #in that is case, the output of sp.getstatusoutput(\"CMIX\") is overridden\n",
    "\n",
    "    if cmixInstalled:\n",
    "        cmixStatus = 0\n",
    "    else:\n",
    "        cmixStatus = 127\n",
    "\n",
    "    if cmixStatus == 0:\n",
    "        output_string = 'rtoutput(\\\"' + base_name + '.wav\\\")\\n'\n",
    "        # don't need the brackets to make it an array !\n",
    "        print(\"CMIX found.\")\n",
    "        print(output_string)\n",
    "        f_out.write(output_string)\n",
    "    else:\n",
    "        print(\"CMIX not found; rtoutput() will not be used in score.\")\n",
    "    #-------------------------------------------------------------------------------\n",
    "    \n",
    "    f_out.write(\"waveform = maketable(\\\"wave\\\", 1000, 1.0)\\n\")\n",
    "    # to add overtones, just add amplitude weights\n",
    "    #f_out.write(\"waveform = maketable(\\\"wave\\\", 1000, 1.0, 0.4, 0.2)\\n\")\n",
    "\n",
    "    f_out.write(\"ampenv = maketable(\\\"window\\\", 1000, \\\"hamming\\\")\\n\")    \n",
    "\n",
    "    # write out the score ! \n",
    "    # (start time, duration, amplitude, frequency, channel mix [0 left, 1.0 right],\n",
    "    # table_handle (which waveform to use)\n",
    "\n",
    "    # for now, constants: \n",
    "            \n",
    "    # reset(44100) makes it very very smooth... \n",
    "            \n",
    "    amp = 10000 \n",
    "    mix = 1.0 # 0 = left, 1 = right, but here just 1 channel\n",
    "    tab_han = 'waveform'\n",
    "\n",
    "    for i,freq_val in enumerate(freqs):\n",
    "        t_start = time[i]\n",
    "        # dur = durations[i]-- here, constant, defined above\n",
    "        dur = 1.4\n",
    "        freq = freq_val\n",
    "        note_string = 'WAVETABLE(' + str(t_start) + ', ' \\\n",
    "                  + str(dur)  + ', ' + str(amp)+ '*ampenv' + ', ' \\\n",
    "                  + str(freq)  + ', ' + str(mix)  + ', ' \\\n",
    "                  +  tab_han + ')\\n' \n",
    "        f_out.write(note_string)\n",
    "        \n",
    "    f_out.close()\n",
    "    return score_name\n",
    "\n"
   ]
  },
  {
   "cell_type": "code",
   "execution_count": 46,
   "metadata": {},
   "outputs": [
    {
     "name": "stdout",
     "output_type": "stream",
     "text": [
      "10 10\n",
      "[  0.           1.55555556   3.11111111   4.66666667   6.22222222\n",
      "   7.77777778   9.33333333  10.88888889  12.44444444  14.        ]\n"
     ]
    }
   ],
   "source": [
    "# Make freqs and time arrays (same length!)\n",
    "freqs = np.concatenate((f_13458_just,f_13458_eqt))\n",
    "beepdur = 1.4\n",
    "sound_dur = len(freqs)*beepdur\n",
    "time_sco = np.linspace(0,sound_dur,len(freqs))\n",
    "print(len(freqs),len(time_sco))\n",
    "print(time_sco)"
   ]
  },
  {
   "cell_type": "code",
   "execution_count": 47,
   "metadata": {},
   "outputs": [
    {
     "name": "stdout",
     "output_type": "stream",
     "text": [
      "scale1_RT.sco\n",
      "CMIX found.\n",
      "rtoutput(\"scale1_RT.wav\")\n",
      "\n"
     ]
    }
   ],
   "source": [
    "# GENERATE THE RTcmix score ! \n",
    "base_name = 'scale1_RT'\n",
    "score_name = makeSimpleScore(base_name,time_sco,freqs)\n",
    "\n"
   ]
  },
  {
   "cell_type": "code",
   "execution_count": 50,
   "metadata": {},
   "outputs": [
    {
     "name": "stdout",
     "output_type": "stream",
     "text": [
      "CMIX < scale1_RT.sco\n",
      "\n",
      "hopefully i just wrote your sound file (scale1_RT.wav); is it here?\n",
      "scale1_RT.wav sound_env.wav\n"
     ]
    }
   ],
   "source": [
    "# play RTcmix score and create a wave file\n",
    "# use CMIX if installed; if not, use pyGoRTcmix\n",
    "abitextra = 0.5\n",
    "dur_sound = time_sco[-1] + abitextra \n",
    "\n",
    "if cmixInstalled:\n",
    "    cmix_cmd = 'CMIX < ' + base_name + '.sco'\n",
    "else:\n",
    "    dur = str(dur_sound)\n",
    "    cmix_cmd = '../pyGoRTcmix/pyGoRTcmix -inputscore ' + os.path.abspath(base_name + '.sco ') + '-output ' + os.path.abspath(base_name + '.wav ') +'-dur ' + dur\n",
    "print(cmix_cmd)\n",
    "\n",
    "runCMIX = sp.Popen(cmix_cmd, shell=True) # if can only be called from a shell, use shell=True\n",
    "\n",
    "runCMIX.wait()\n",
    "print('\\nhopefully i just wrote your sound file (' + base_name + '.wav); is it here?')\n",
    "! ls *.wav"
   ]
  },
  {
   "cell_type": "code",
   "execution_count": 52,
   "metadata": {},
   "outputs": [
    {
     "data": {
      "text/plain": [
       "<subprocess.Popen at 0x112809e10>"
      ]
     },
     "execution_count": 52,
     "metadata": {},
     "output_type": "execute_result"
    }
   ],
   "source": [
    "move_cmd = 'mv ' + base_name + '.* ../3_output_nogit/'\n",
    "sp.Popen(move_cmd, shell=True)"
   ]
  },
  {
   "cell_type": "code",
   "execution_count": 29,
   "metadata": {},
   "outputs": [
    {
     "name": "stdout",
     "output_type": "stream",
     "text": [
      "[ 261.6255653   277.18263098  311.12698372  349.22823143  391.99543598\n",
      "  415.30469758  466.16376152]\n",
      "rtoutput(\"phrygian_c.wav\")\n",
      "\n"
     ]
    },
    {
     "data": {
      "text/plain": [
       "'phrygian_c.sco'"
      ]
     },
     "execution_count": 29,
     "metadata": {},
     "output_type": "execute_result"
    }
   ],
   "source": [
    "# EXERCISE:  MAKE AN RTCMIX SCORE FROM THIS... \n",
    "base_name = 'phrygian_c'\n",
    "# pluck freqs out of the scale... or calculate freqs with k ? \n",
    "freqs = notename2freq(indexes2,0,C4)\n",
    "print(freqs)\n",
    "time2 = np.linspace(0,10,len(indexes2))\n",
    "\n",
    "makeSimpleScore(base_name,time,freqs)"
   ]
  },
  {
   "cell_type": "code",
   "execution_count": 58,
   "metadata": {
    "collapsed": true
   },
   "outputs": [],
   "source": [
    "# EXERCISE:  CHANGE THE ROOT NOTE OF THE SCALE ! \n"
   ]
  },
  {
   "cell_type": "code",
   "execution_count": null,
   "metadata": {
    "collapsed": true
   },
   "outputs": [],
   "source": [
    "# EXERCISE: STRING TOGETHER A SERIES OF SCALES, LOOPING OVER ONE THING TO CHANGE, \n",
    "# such as root note or mode... and make a longer RTcmix score... "
   ]
  },
  {
   "cell_type": "markdown",
   "metadata": {},
   "source": [
    "### (7) Circles of 5ths and 4ths... \n",
    "### (8) More considerations for composing from data.. chords... key changes, microtonal scales... "
   ]
  }
 ],
 "metadata": {
  "anaconda-cloud": {},
  "kernelspec": {
   "display_name": "Python 3",
   "language": "python",
   "name": "python3"
  },
  "language_info": {
   "codemirror_mode": {
    "name": "ipython",
    "version": 3
   },
   "file_extension": ".py",
   "mimetype": "text/x-python",
   "name": "python",
   "nbconvert_exporter": "python",
   "pygments_lexer": "ipython3",
   "version": "3.6.1"
  }
 },
 "nbformat": 4,
 "nbformat_minor": 2
}
