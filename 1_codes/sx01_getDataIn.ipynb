{
 "cells": [
  {
   "cell_type": "markdown",
   "metadata": {},
   "source": [
    "## Importing data from a file into python... \n",
    "### 1) if a list of ascii numbers\n",
    "### 2) if a CSV file (i.e. exported from excel). \n",
    "### 3) if a mixture... digging in by \"hand\"\n",
    "### 4) custom formats created in different fields.. "
   ]
  },
  {
   "cell_type": "code",
   "execution_count": 1,
   "metadata": {
    "collapsed": true
   },
   "outputs": [],
   "source": [
    "import numpy as np\n",
    "import matplotlib.pyplot as plt\n",
    "%matplotlib inline "
   ]
  },
  {
   "cell_type": "code",
   "execution_count": 2,
   "metadata": {
    "collapsed": true
   },
   "outputs": [],
   "source": [
    "path_to_data = '../data_examples/'"
   ]
  },
  {
   "cell_type": "markdown",
   "metadata": {},
   "source": [
    "# 1) tab delimited ascii (text) of ONLY NUMBERS ! \n",
    "###  np.loadtxt  (https://docs.scipy.org/doc/numpy/reference/generated/numpy.loadtxt.html)"
   ]
  },
  {
   "cell_type": "code",
   "execution_count": 3,
   "metadata": {},
   "outputs": [
    {
     "name": "stdout",
     "output_type": "stream",
     "text": [
      "../data_examples/simplenums.txt\n"
     ]
    }
   ],
   "source": [
    "# a path to the data and the name of the file ! \n",
    "filename = 'simplenums.txt'\n",
    "open_this = path_to_data + filename\n",
    "print(open_this)"
   ]
  },
  {
   "cell_type": "code",
   "execution_count": 5,
   "metadata": {},
   "outputs": [
    {
     "name": "stdout",
     "output_type": "stream",
     "text": [
      "[[   0.      1.2    71.5   400.34]\n",
      " [   1.      1.3    72.5   410.34]\n",
      " [   2.      1.4    73.5   420.34]\n",
      " [   3.      1.5    74.5   430.34]\n",
      " [   4.      1.6    75.5   440.34]\n",
      " [   5.      1.7    76.5   450.34]\n",
      " [   6.      1.8    77.5   460.34]\n",
      " [   7.      1.9    78.5   470.34]]\n"
     ]
    }
   ],
   "source": [
    "simpnums = np.loadtxt(open_this)\n",
    "print(simpnums)"
   ]
  },
  {
   "cell_type": "code",
   "execution_count": 6,
   "metadata": {},
   "outputs": [
    {
     "data": {
      "text/plain": [
       "[<matplotlib.lines.Line2D at 0x10d160208>]"
      ]
     },
     "execution_count": 6,
     "metadata": {},
     "output_type": "execute_result"
    },
    {
     "data": {
      "image/png": "[encoded data removed]",
      "text/plain": [
       "<matplotlib.figure.Figure at 0x10afe76a0>"
      ]
     },
     "metadata": {},
     "output_type": "display_data"
    }
   ],
   "source": [
    "plt.plot(simpnums[:,0], simpnums[:,3])"
   ]
  },
  {
   "cell_type": "code",
   "execution_count": null,
   "metadata": {
    "collapsed": true
   },
   "outputs": [],
   "source": []
  },
  {
   "cell_type": "markdown",
   "metadata": {},
   "source": [
    "# 2) CSV (comma separated values)\n",
    "### this is what would be exported from a spreadsheet.. an old standard. \n"
   ]
  },
  {
   "cell_type": "markdown",
   "metadata": {},
   "source": [
    "### 1. python csv module  (https://docs.python.org/3/library/csv.html)"
   ]
  },
  {
   "cell_type": "code",
   "execution_count": 7,
   "metadata": {
    "collapsed": true
   },
   "outputs": [],
   "source": [
    "# to be honest i don't get this one, but it is probably more for text-based info mixed with numbers, \n",
    "# than it is for predominantly numbers. "
   ]
  },
  {
   "cell_type": "code",
   "execution_count": null,
   "metadata": {},
   "outputs": [],
   "source": [
    "\n"
   ]
  },
  {
   "cell_type": "markdown",
   "metadata": {},
   "source": [
    "### 2. np.genfromtext  (https://docs.scipy.org/doc/numpy/user/basics.io.genfromtxt.html) "
   ]
  },
  {
   "cell_type": "code",
   "execution_count": 10,
   "metadata": {},
   "outputs": [
    {
     "name": "stdout",
     "output_type": "stream",
     "text": [
      "../data_examples/argo_profile.csv\n"
     ]
    }
   ],
   "source": [
    "filename = 'argo_profile.csv'\n",
    "open_this = path_to_data + filename\n",
    "print(open_this)"
   ]
  },
  {
   "cell_type": "code",
   "execution_count": 11,
   "metadata": {},
   "outputs": [
    {
     "name": "stdout",
     "output_type": "stream",
     "text": [
      "(100, 7)\n",
      "[  6.90097200e+06   1.12542000e+05   3.98900000e+01  -2.75940000e+01\n",
      "   1.00000000e+00   1.37340000e+01   3.58350000e+01]\n"
     ]
    }
   ],
   "source": [
    "data = np.genfromtxt(open_this, delimiter=',', skip_header=1) \n",
    "# skiprow because there is a header\n",
    "print(data.shape)\n",
    "print(data[1,:])"
   ]
  },
  {
   "cell_type": "code",
   "execution_count": 12,
   "metadata": {},
   "outputs": [
    {
     "name": "stdout",
     "output_type": "stream",
     "text": [
      "(6900972.0, 112542.0, 39.89, -27.594, 1.0, 13.734, 35.835)\n",
      "(100,)\n",
      "[('PLATFORM', '<f8'), ('ARGOS_ID', '<f8'), ('LATITUDE', '<f8'), ('LONGITUDE', '<f8'), ('PRES', '<f8'), ('TEMP', '<f8'), ('SAL', '<f8')]\n"
     ]
    }
   ],
   "source": [
    "data_rec = np.genfromtxt(open_this, delimiter=',', names=True) \n",
    "# this last thing makes a \"record array\"; it has a different shape\n",
    "print(data_rec[1])\n",
    "print(data_rec.shape)\n",
    "print(data_rec.dtype)  # this tagging format is called a \"record array\" \n",
    "\n",
    "S = data_rec['SAL'] # using the name (string) as the identifyers of the fields.. \n",
    "T = data_rec['TEMP'] \n",
    "P = data_rec['PRES'] \n",
    "# f8 = 64-bit floating-point number\n",
    "# < = \"little endian\"  "
   ]
  },
  {
   "cell_type": "code",
   "execution_count": 13,
   "metadata": {},
   "outputs": [
    {
     "data": {
      "image/png": "[encoded data removed]",
      "text/plain": [
       "<matplotlib.figure.Figure at 0x10d119cc0>"
      ]
     },
     "metadata": {},
     "output_type": "display_data"
    }
   ],
   "source": [
    "f,(ax1, ax2) = plt.subplots(1,2)\n",
    "\n",
    "ax1.plot(T,P, 'r-')\n",
    "ax1.invert_yaxis()\n",
    "ax1.set_xlabel('temperature [C]')\n",
    "ax1.set_ylabel('pressure (below ocean surface)')\n",
    "\n",
    "ax2.plot(S,P)\n",
    "ax2.invert_yaxis()\n",
    "ax2.set_xlabel('salinity')\n",
    "ax2.set_ylabel('pressure (below ocean surface)')\n",
    "pos1 = ax2.get_position() # get the original position \n",
    "pos2 = [pos1.x0 + 0.1, pos1.y0, pos1.width, pos1.height] \n",
    "ax2.set_position(pos2) # set a new position\n",
    "\n"
   ]
  },
  {
   "cell_type": "markdown",
   "metadata": {},
   "source": [
    "# 3) digging in... (by \"hand\") \n",
    "## This part involves opening up the file and reading it line by line, parsing the data as it comes out.. for more flexibility and control.. "
   ]
  },
  {
   "cell_type": "code",
   "execution_count": 5,
   "metadata": {
    "collapsed": true
   },
   "outputs": [],
   "source": [
    "import sys\n",
    "import math\n",
    "import datetime"
   ]
  },
  {
   "cell_type": "code",
   "execution_count": 6,
   "metadata": {
    "collapsed": true
   },
   "outputs": [],
   "source": [
    "# the other way: passing the filename when i call it: \n",
    "def read_file(OpenThisFile): \n",
    "# this is GOOD STYLE (rm), decompose decompose ! \n",
    "# making a separate function because it makes it easier to understand\n",
    "    try:\n",
    "        fi = open(OpenThisFile, 'r')\n",
    "    except IOError: \n",
    "        print('Can\\'t open file...... BUUUUUUUUUTTTT whyyy nnnnooooootttttt ???')\n",
    "        sys.exit(0)\n",
    "    return fi  # means that it exists outside "
   ]
  },
  {
   "cell_type": "code",
   "execution_count": 14,
   "metadata": {
    "collapsed": true
   },
   "outputs": [],
   "source": [
    "def file_len(OpenThisFile):\n",
    "    with open(OpenThisFile) as f:\n",
    "        for i, l in enumerate(f):\n",
    "            pass\n",
    "    return i + 1\n"
   ]
  },
  {
   "cell_type": "code",
   "execution_count": 91,
   "metadata": {},
   "outputs": [],
   "source": [
    "filename = 'parsedCMT_subset.txt'\n",
    "open_this = path_to_data + filename\n",
    "fi = read_file(open_this)"
   ]
  },
  {
   "cell_type": "code",
   "execution_count": 92,
   "metadata": {},
   "outputs": [
    {
     "name": "stdout",
     "output_type": "stream",
     "text": [
      "58\n"
     ]
    }
   ],
   "source": [
    "num_eqs = file_len(open_this)\n",
    "print(num_eqs)"
   ]
  },
  {
   "cell_type": "code",
   "execution_count": 94,
   "metadata": {},
   "outputs": [
    {
     "name": "stdout",
     "output_type": "stream",
     "text": [
      "M010176A\t1976/01/01\t01:29:39.6\t-29.25\t-176.96\t 47.8\t6.2 \t0.0 \t7.25363859485\t202 \t30 \t  93\t 18 \t60 \t  88\n",
      "\n",
      "NO LINE TO READ\n",
      "<class 'float'>\n"
     ]
    }
   ],
   "source": [
    "# NOW LETS GET THE DATA OUT ! \n",
    "\n",
    "# initialize the lists:\n",
    "time_vec = []\n",
    "depth_vec = []\n",
    "Mw_vec = []\n",
    "\n",
    "# ==================================================\n",
    "open_this = path_to_data + filename\n",
    "# for some reason, it seems that the file needs to be read in again, after running once (as if it gets eaten)\n",
    "fi = read_file(open_this)\n",
    "testline = fi.readline()\n",
    "print(testline)\n",
    "\n",
    "#while 1:\n",
    "for i in range(num_eqs): \n",
    "    line = fi.readline()\n",
    "    if not line: \n",
    "        print('NO LINE TO READ')\n",
    "        break\n",
    "    cols = line.split('\\t')\n",
    "\n",
    "    date = cols[1]\n",
    "    time = cols[2]\n",
    "    #print(date)\n",
    "    \n",
    "    year = int(date[0:4])\n",
    "    month = int(date[5:7])\n",
    "    day = int(date[8:10])\n",
    "    hour = int(time[0:2])\n",
    "    minute = int(time[3:5])\n",
    "    second= int(time[6:8])\n",
    "\n",
    "    ## convert to julian day\n",
    "    dt = datetime.datetime(year, month, day)\n",
    "    tt = dt.timetuple()\n",
    "    jDay = tt.tm_yday\n",
    "    #print(jDay)\n",
    "    ## convert to milliseconds:\n",
    "    time_ms = second*1000. + minute*60.*1000. + hour*60.*60.*1000. + jDay*24.*60.*60.*1000. + year*365.25*24.*60.*60.*1000.\n",
    "    #print(time_ms)\n",
    "    \n",
    "    # read in the moment magnitude Mw and depth\n",
    "    Mw = float(cols[8])\n",
    "    depth_km = cols[5]\n",
    "    #print(Mw)\n",
    "\n",
    "    # assign arrays\n",
    "    time_vec.append(time_ms)\n",
    "    Mw_vec.append(Mw)\n",
    "    depth_vec.append(depth_km)\n",
    "\n",
    "    \n",
    "## outside of loop: \n",
    "# convert to np arrays ! \n",
    "print(type(time_ms))\n",
    "time_vec = np.array(time_vec)\n",
    "time_vec_0 = (time_vec - time_vec[0])/(1000*3.14e7)\n",
    "# note that this operation won't work on a list ! \n",
    "\n",
    "#len(time_vec_0)\n",
    "#len(Mw_vec)"
   ]
  },
  {
   "cell_type": "code",
   "execution_count": 95,
   "metadata": {},
   "outputs": [
    {
     "data": {
      "text/plain": [
       "[<matplotlib.lines.Line2D at 0x10e6c7860>]"
      ]
     },
     "execution_count": 95,
     "metadata": {},
     "output_type": "execute_result"
    },
    {
     "data": {
      "image/png": "[encoded data removed]",
      "text/plain": [
       "<matplotlib.figure.Figure at 0x10e15bef0>"
      ]
     },
     "metadata": {},
     "output_type": "display_data"
    }
   ],
   "source": [
    "plt.plot(time_vec_0,Mw_vec, 'r.')\n"
   ]
  },
  {
   "cell_type": "code",
   "execution_count": null,
   "metadata": {
    "collapsed": true
   },
   "outputs": [],
   "source": []
  }
 ],
 "metadata": {
  "anaconda-cloud": {},
  "kernelspec": {
   "display_name": "Python 3",
   "language": "python",
   "name": "python3"
  },
  "language_info": {
   "codemirror_mode": {
    "name": "ipython",
    "version": 3
   },
   "file_extension": ".py",
   "mimetype": "text/x-python",
   "name": "python",
   "nbconvert_exporter": "python",
   "pygments_lexer": "ipython3",
   "version": "3.6.8"
  }
 },
 "nbformat": 4,
 "nbformat_minor": 2
}
