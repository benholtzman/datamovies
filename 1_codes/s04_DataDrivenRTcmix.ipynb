{
 "cells": [
  {
   "cell_type": "markdown",
   "metadata": {},
   "source": [
    "##  Intro to tonal representation of data, and RTcmix \n",
    "### (1) Read in the data file ! \n",
    "### (2) No Rhythm ! time determines pitches\n",
    "### (3) Got Rhythm! pitches determine time\n",
    "### (4) Swelling chords"
   ]
  },
  {
   "cell_type": "code",
   "execution_count": 1,
   "metadata": {
    "collapsed": true
   },
   "outputs": [
    {
     "name": "stdout",
     "output_type": "stream",
     "text": [
      "CMIX not found, using pyGoRTcmix instead.\n"
     ]
    }
   ],
   "source": [
    "# import what you need ! \n",
    "\n",
    "import sys\n",
    "sys.path.append('../2_modules/')\n",
    "\n",
    "import numpy as np\n",
    "import matplotlib.pyplot as plt\n",
    "from importlib import reload\n",
    "import pandas as pd\n",
    "import subprocess as sp\n",
    "from subprocess import Popen\n",
    "\n",
    "# our modules: \n",
    "import notepicker\n",
    "#import makeDataChord_v2 as mDc\n",
    "import writeCmixSco_GRAN_v2 as wRT_gran\n",
    "import writeCmixSco_WT_ac as wRT_wt\n",
    "# _ac stands for autocheck\n",
    "\n",
    "%matplotlib inline\n",
    "\n",
    "# ======================================================\n",
    "# autocheck for your RTcmix installation type: \n",
    "cmixStatus, cmixResult = sp.getstatusoutput(\"CMIX\")\n",
    "if cmixStatus == 0:\n",
    "    cmixInstalled = True\n",
    "    print(\"CMIX found.\")\n",
    "else:\n",
    "    cmixInstalled = False\n",
    "    print(\"CMIX not found, using pyGoRTcmix instead.\")\n",
    "# ======================================================\n",
    "\n",
    "%matplotlib inline"
   ]
  },
  {
   "cell_type": "markdown",
   "metadata": {},
   "source": [
    "## (1) Read in the data ! "
   ]
  },
  {
   "cell_type": "code",
   "execution_count": 2,
   "metadata": {},
   "outputs": [
    {
     "name": "stdout",
     "output_type": "stream",
     "text": [
      "data_readme.txt  P39A.BHZ\n"
     ]
    }
   ],
   "source": [
    "! ls ../0_data_nogit/"
   ]
  },
  {
   "cell_type": "code",
   "execution_count": 4,
   "metadata": {
    "collapsed": true
   },
   "outputs": [
    {
     "name": "stdout",
     "output_type": "stream",
     "text": [
      "      hum  temp_C  time_s\n",
      "0  46.151   20.89  0.0000\n",
      "1  46.088   20.90  0.3492\n",
      "2  46.025   20.90  0.7246\n",
      "3  45.995   20.92  1.0998\n",
      "4  45.965   20.93  1.4751\n"
     ]
    }
   ],
   "source": [
    "# READ IN THE DATA FILE ! ! !\n",
    "#datafilename = '../0_data_nogit/breathalyzer/pizzadevils_120s.pkl'\n",
    "datafilename = '../0_data_examples/breathalyzer/BA_ben_1.pkl'\n",
    "breath = pd.read_pickle(datafilename) # np.loadtxt(datafilename)\n",
    "print(breath[0:5])\n",
    "time = breath.time_s\n",
    "p1 = temp_C = breath.temp_C\n",
    "p2 = humidity = breath.hum\n",
    "\n",
    "# put the data into a dictionary: \n",
    "# (very useful, but we will also work with pandas)\n",
    "data_dict = {}\n",
    "data_dict['time_o'] = time  # the _o indicates these are the original values, un-re-sampled\n",
    "data_dict['p1_o'] = p1"
   ]
  },
  {
   "cell_type": "code",
   "execution_count": 5,
   "metadata": {},
   "outputs": [
    {
     "data": {
      "image/png": "[encoded data removed]",
      "text/plain": [
       "<Figure size 720x576 with 2 Axes>"
      ]
     },
     "metadata": {
      "needs_background": "light"
     },
     "output_type": "display_data"
    }
   ],
   "source": [
    "# PLOT THE DATA AS CURVES... \n",
    "fig = plt.figure(figsize=(10,8))\n",
    "\n",
    "plt.subplot(2,1,1)\n",
    "plt.plot(time,humidity,'b-')\n",
    "#plt.xlabel('time')\n",
    "plt.ylabel('H humidity [%]')\n",
    "\n",
    "plt.subplot(2,1,2)\n",
    "plt.plot(time,temp_C,'r-')\n",
    "plt.xlabel('time [seconds] ')\n",
    "plt.ylabel('T temperature [C]')\n",
    "\n",
    "plt.show()"
   ]
  },
  {
   "cell_type": "markdown",
   "metadata": {},
   "source": [
    "## (2) No Rhythm ! time determines pitches"
   ]
  },
  {
   "cell_type": "markdown",
   "metadata": {},
   "source": [
    "(1) Decide the times at which you want to sample the data <br>\n",
    "(2) Interpolate the y-values to a range of frequency <br>\n",
    "(3) Interpolate the frequency values at each time <br>\n",
    "(4) write RTcmix Wavetable score <br>"
   ]
  },
  {
   "cell_type": "code",
   "execution_count": 6,
   "metadata": {},
   "outputs": [
    {
     "name": "stdout",
     "output_type": "stream",
     "text": [
      "data duration =  20.2237\n",
      "score duration =  4.04474\n",
      "0.0408559595959596\n"
     ]
    }
   ],
   "source": [
    "# (1) Decide the times at which you want to sample the data\n",
    "ind_end = len(time)-1\n",
    "duration_data = time[ind_end]\n",
    "print('data duration = ', str(duration_data))\n",
    "t_start = 0\n",
    "t_end = time[ind_end] \n",
    "n_notes = 100\n",
    "times = np.linspace(t_start,t_end,n_notes)\n",
    "\n",
    "# stretch or shrink time, for the duration of the score-- \n",
    "# but you'll see why we need to keep the original times... \n",
    "\n",
    "stretch = 0.2\n",
    "times_sco = times*stretch\n",
    "print('score duration = ', str(times_sco[-1]))\n",
    "dt = times_sco[2]-times_sco[1]\n",
    "print(dt)"
   ]
  },
  {
   "cell_type": "code",
   "execution_count": 7,
   "metadata": {},
   "outputs": [
    {
     "name": "stdout",
     "output_type": "stream",
     "text": [
      "0    20.89\n",
      "1    20.90\n",
      "2    20.90\n",
      "3    20.92\n",
      "4    20.93\n",
      "5    20.93\n",
      "6    20.94\n",
      "7    20.95\n",
      "8    20.95\n",
      "9    20.96\n",
      "Name: temp_C, dtype: float64\n",
      "[220.         221.83544304 221.83544304 225.50632911 227.34177215\n",
      " 227.34177215 229.17721519 231.01265823 231.01265823 232.84810127]\n"
     ]
    }
   ],
   "source": [
    "# (2) Interpolate the y-values to a range of frequency \n",
    "# NOTE: we will use interpolate all the time ! play with it to understand what it is doing! \n",
    "p1_data_range = np.linspace(min(p1),max(p1),40) # the number of points doesnt matter here ! \n",
    "f_min = 220.\n",
    "f_max = 800.\n",
    "freq_range = np.linspace(f_min,f_max,40)\n",
    "\n",
    "# np.interp(x, xp, yp) : \n",
    "# x is the array of discrete sampling values, xp is original x, yp is original y\n",
    "# returns the y values at \n",
    "\n",
    "p1_f = np.interp(p1,p1_data_range,freq_range)\n",
    "print(p1[0:10])\n",
    "print(p1_f[0:10])\n"
   ]
  },
  {
   "cell_type": "code",
   "execution_count": 8,
   "metadata": {},
   "outputs": [
    {
     "name": "stdout",
     "output_type": "stream",
     "text": [
      "[220.         221.0737226  221.83544304 221.83544304 222.74063337\n",
      " 224.73926841 226.1219522  227.12100345 227.34177215 227.34177215]\n"
     ]
    }
   ],
   "source": [
    "# (3) Interpolate the frequency values at each time\n",
    "pitches = np.interp(times,time,p1_f)\n",
    "print(pitches[0:10])"
   ]
  },
  {
   "cell_type": "code",
   "execution_count": 9,
   "metadata": {},
   "outputs": [
    {
     "data": {
      "text/plain": [
       "Text(0, 0.5, 'pitches (T temperature)')"
      ]
     },
     "execution_count": 9,
     "metadata": {},
     "output_type": "execute_result"
    },
    {
     "data": {
      "image/png": "[encoded data removed]",
      "text/plain": [
       "<Figure size 720x576 with 1 Axes>"
      ]
     },
     "metadata": {
      "needs_background": "light"
     },
     "output_type": "display_data"
    }
   ],
   "source": [
    "# plot the results: \n",
    "\n",
    "fig = plt.figure(figsize=(10,8))\n",
    "time_tmp = np.linspace(times_sco[0],times_sco[-1],len(p1_f))\n",
    "plt.plot(time_tmp,p1_f,'r-')\n",
    "plt.plot(times_sco,pitches,'ko')\n",
    "for ind,t in enumerate(times_sco):\n",
    "    plt.plot([t,t],[f_min,pitches[ind]],'k-', linewidth=0.5)\n",
    "    \n",
    "plt.xlabel('score time')\n",
    "plt.ylabel('pitches (T temperature)')"
   ]
  },
  {
   "cell_type": "code",
   "execution_count": 14,
   "metadata": {},
   "outputs": [
    {
     "name": "stdout",
     "output_type": "stream",
     "text": [
      "test_noRhythm1.sco\n",
      "CMIX found.\n",
      "rtoutput(\"test_noRhythm1.wav\")\n",
      "\n"
     ]
    }
   ],
   "source": [
    "# (4) write RTcmix Wavetable score\n",
    "reload(wRT_wt)\n",
    "base_name = 'test_noRhythm1'\n",
    "\n",
    "tones_dict = {}\n",
    "tones_dict['times'] = np.asarray(times_sco)\n",
    "tones_dict['notes'] = np.asarray(pitches)\n",
    "tones_dict['durs'] = np.ones(len(pitches))*dt*1.0 # the 0.8 makes for more discrete pitches\n",
    "tones_dict['amps'] = np.ones(len(pitches))*2000\n",
    "tones_dict['pans'] = np.ones(len(pitches))*0.5\n",
    "\n",
    "score_name = wRT_wt.writesco(tones_dict,base_name)"
   ]
  },
  {
   "cell_type": "code",
   "execution_count": 15,
   "metadata": {},
   "outputs": [
    {
     "name": "stdout",
     "output_type": "stream",
     "text": [
      "CMIX < test_noRhythm1.sco\n",
      "/Users/ben/githole/datamovies/1_codes\n",
      "lern_GRANSYNTH_v1_pitchjitVAR.sco test_noRhythm1.sco\n",
      "scale1_RT.sco\n",
      "b'/Users/ben/githole/datamovies/1_codes\\n'\n",
      "/Users/ben/githole/datamovies/1_codes\n",
      "hopefully i just wrote your sound file; is it here?\n",
      "scale1_RT.wav      test_noRhythm1.wav\n"
     ]
    },
    {
     "data": {
      "text/plain": [
       "CompletedProcess(args='mv *.wav ../3_output_nogit/', returncode=0)"
      ]
     },
     "execution_count": 15,
     "metadata": {},
     "output_type": "execute_result"
    }
   ],
   "source": [
    "cmix_cmd = 'CMIX < ' + score_name\n",
    "print(cmix_cmd)\n",
    "\n",
    "# the ! tells the notebook to run a command in the terminal\n",
    "! pwd\n",
    "! ls *.sco\n",
    "# or if that doesnt work, try this: \n",
    "ls_output = sp.check_output(['pwd'])\n",
    "print(ls_output)\n",
    "# but THIS works better ! \n",
    "! pwd\n",
    "\n",
    "runCMIX = sp.Popen(cmix_cmd, shell=True) # if can only be called from a shell, use shell=True\n",
    "runCMIX.wait()\n",
    "print(\"hopefully i just wrote your sound file; is it here?\")\n",
    "! ls *.wav\n",
    "\n",
    "sp.run(['mv', score_name, '../3_output_nogit'])\n",
    "sp.run('mv *.wav ../3_output_nogit/', shell=True)"
   ]
  },
  {
   "cell_type": "markdown",
   "metadata": {},
   "source": [
    "## 3) Got Rhythm ! pitches determine time !  "
   ]
  },
  {
   "cell_type": "markdown",
   "metadata": {},
   "source": [
    "(1) Define the frequencies that we want to use ! <br>\n",
    "(2) Interpolate the y values to this range of frequencies. <br>\n",
    "(3) Find where in time these values occur, use these as our start times and durations.  <br>\n",
    "(4) Generate the score. <br>"
   ]
  },
  {
   "cell_type": "code",
   "execution_count": 10,
   "metadata": {},
   "outputs": [
    {
     "name": "stdout",
     "output_type": "stream",
     "text": [
      "[110.         113.26931196 116.63579119 120.10232562 123.67188897\n",
      " 127.34754339 131.13244199 135.02983163 139.04305566 143.17555679\n",
      " 147.43088006 151.81267587 156.32470311 160.97083239 165.75504936\n",
      " 170.68145813 175.75428479 180.97788101 186.35672783 191.89543945\n",
      " 197.59876722 203.4716037  209.51898685 215.74610439 222.15829819\n",
      " 228.76106893 235.56008073 242.56116608 249.77033081 257.19375925\n",
      " 264.83781955 272.70906909 280.81426019 289.16034581 297.75448559\n",
      " 306.60405195 315.71663644 325.1000562  334.76236076 344.71183884\n",
      " 354.95702553 365.5067096  376.36994102 387.55603873 399.07459865\n",
      " 410.9355019  423.14892326 435.72533993 448.67554051 462.01063424\n",
      " 475.74206051 489.88159876 504.44137847 519.43388965 534.87199353\n",
      " 550.76893356 567.13834683 583.99427573 601.35117999 619.2239491\n",
      " 637.62791511 656.57886572 676.09305787 696.18723166 716.87862476\n",
      " 738.18498712 760.12459625 782.7162729  805.97939717 829.93392517\n",
      " 854.60040613 880.        ]\n"
     ]
    }
   ],
   "source": [
    "n_octaves_total = 3.0\n",
    "root_note  = 110.0\n",
    "ints_per_oct = 24\n",
    "\n",
    "# chromatic scale of n octaves: \n",
    "intervals = np.linspace(0,n_octaves_total,int(n_octaves_total*ints_per_oct))\n",
    "pitches = root_note*(2**intervals)\n",
    "print(pitches)\n",
    "\n",
    "# or... major scales of n octaves, etc... \n",
    "\n"
   ]
  },
  {
   "cell_type": "code",
   "execution_count": 11,
   "metadata": {},
   "outputs": [
    {
     "data": {
      "text/plain": [
       "Text(0, 0.5, 'pitches (T temperature)')"
      ]
     },
     "execution_count": 11,
     "metadata": {},
     "output_type": "execute_result"
    },
    {
     "data": {
      "image/png": "[encoded data removed]",
      "text/plain": [
       "<Figure size 720x576 with 1 Axes>"
      ]
     },
     "metadata": {
      "needs_background": "light"
     },
     "output_type": "display_data"
    }
   ],
   "source": [
    "# (2) Interpolate the y-values to a range of frequency (using notepicker !)\n",
    "reload(notepicker)\n",
    "p1_in_freq = notepicker.interpvals_to_freqs(p1,pitches)\n",
    "\n",
    "# (3) Find where in time these values occur, use these as our start times and durations.\n",
    "dur_sound = 16.0\n",
    "time = np.linspace(0,dur_sound,len(p1_in_freq))\n",
    "scale_note_dur = 0.8\n",
    "times, notes, durs = notepicker.findroots(time,p1_in_freq,pitches)\n",
    "\n",
    "\n",
    "# plot the results: \n",
    "fig = plt.figure(figsize=(10,8))\n",
    "\n",
    "time_tmp = np.linspace(time[0],time[-1],len(p1_in_freq))\n",
    "plt.plot(time_tmp,p1_in_freq,'r-')\n",
    "plt.plot(times,notes,'ko')\n",
    "\n",
    "for ind,t in enumerate(times):\n",
    "    plt.plot([t,t],[min(notes),notes[ind]],'k-',linewidth=0.5)\n",
    "    plt.plot([0,t],[notes[ind],notes[ind]],'r-',linewidth=0.5)\n",
    "    \n",
    "plt.xlabel('score time')\n",
    "plt.ylabel('pitches (T temperature)')"
   ]
  },
  {
   "cell_type": "code",
   "execution_count": 12,
   "metadata": {},
   "outputs": [
    {
     "name": "stdout",
     "output_type": "stream",
     "text": [
      "test_gotRhythm1.sco\n",
      "CMIX not found; rtoutput() will not be used in score.\n"
     ]
    }
   ],
   "source": [
    "# (4) write RTcmix Wavetable score\n",
    "reload(wRT_wt)\n",
    "base_name = 'test_gotRhythm1'\n",
    "trim = -6\n",
    "tones_dict = {}\n",
    "tones_dict['times'] = np.asarray(times[:trim])\n",
    "tones_dict['notes'] = np.asarray(notes[:trim])\n",
    "tones_dict['durs'] = np.asarray(durs[:trim]) \n",
    "tones_dict['amps'] = np.ones(len(notes[:trim]))*2000\n",
    "tones_dict['pans'] = np.ones(len(notes[:trim]))*0.5\n",
    "\n",
    "score_name = wRT_wt.writesco(tones_dict,base_name)"
   ]
  },
  {
   "cell_type": "code",
   "execution_count": 19,
   "metadata": {},
   "outputs": [
    {
     "name": "stdout",
     "output_type": "stream",
     "text": [
      "CMIX < test_gotRhythm1.sco\n",
      "/Users/ben/githole/datamovies/1_codes\n",
      "lern_GRANSYNTH_v1_pitchjitVAR.sco test_gotRhythm1.sco\n",
      "scale1_RT.sco\n",
      "b'/Users/ben/githole/datamovies/1_codes\\n'\n",
      "/Users/ben/githole/datamovies/1_codes\n",
      "hopefully i just wrote your sound file; is it here?\n",
      "test_gotRhythm1.wav\n"
     ]
    },
    {
     "data": {
      "text/plain": [
       "CompletedProcess(args='mv *.wav ../3_output_nogit/', returncode=0)"
      ]
     },
     "execution_count": 19,
     "metadata": {},
     "output_type": "execute_result"
    }
   ],
   "source": [
    "cmix_cmd = 'CMIX < ' + score_name\n",
    "print(cmix_cmd)\n",
    "\n",
    "# the ! tells the notebook to run a command in the terminal\n",
    "! pwd\n",
    "! ls *.sco\n",
    "# or if that doesnt work, try this: \n",
    "ls_output = sp.check_output(['pwd'])\n",
    "print(ls_output)\n",
    "# but THIS works better ! \n",
    "! pwd\n",
    "\n",
    "runCMIX = sp.Popen(cmix_cmd, shell=True) # if can only be called from a shell, use shell=True\n",
    "runCMIX.wait()\n",
    "print(\"hopefully i just wrote your sound file; is it here?\")\n",
    "! ls *.wav\n",
    "\n",
    "sp.run(['mv', score_name, '../3_output_nogit'])\n",
    "sp.run('mv *.wav ../3_output_nogit/', shell=True)"
   ]
  },
  {
   "cell_type": "markdown",
   "metadata": {},
   "source": [
    "### (4) Swelling chords"
   ]
  },
  {
   "cell_type": "code",
   "execution_count": 13,
   "metadata": {},
   "outputs": [
    {
     "name": "stdout",
     "output_type": "stream",
     "text": [
      "[0, 1, 2, 2, 2, 1, 2, 2, 1, 2, 2, 2, 1, 2, 2, 2, 2, 2, 1, 2, 2, 1]\n",
      "[ 0  1  3  5  7  8 10 12 13 15 17 19 20 22 24 26 28 30 31 33 35]\n",
      "261.6255653005986\n",
      "[130.81278265 138.59131549 155.56349186 174.61411572 195.99771799\n",
      " 207.65234879 233.08188076 261.6255653  277.18263098 311.12698372\n",
      " 349.22823143 391.99543598 415.30469758 466.16376152 523.2511306\n",
      " 587.32953583 659.25511383 739.98884542 783.99087196 880.\n",
      " 987.76660251]\n"
     ]
    }
   ],
   "source": [
    "# OR USE OTHER MUSICAL STRUCTURES ! \n",
    "modes = {\n",
    "    'ionian':[2,2,1,2,2,2,1],\n",
    "    'dorian':[2,1,2,2,2,1,2],\n",
    "    'phrygian':[1,2,2,2,1,2,2],\n",
    "    'lydian':[2,2,2,1,2,2,1],\n",
    "    'mixolydian':[2,2,1,2,2,1,2],\n",
    "    'aeolian':[2,1,2,2,1,2,2],\n",
    "    'lochrian':[1,2,2,1,2,2,2]\n",
    "}\n",
    "\n",
    "intervals = [0] + modes['phrygian'] + modes['phrygian']+ modes['lydian'] # + modes['mixolydian']\n",
    "print(intervals)\n",
    "elements = np.cumsum(intervals[:-1])\n",
    "print(elements)\n",
    "#indexes = np.array(x)\n",
    "\n",
    "C4 = 440.0 * 2**(3/12-1)\n",
    "print(C4)\n",
    "\n",
    "def notename2freq(k,v,f0):\n",
    "    freqs = f0*2**(v+k/12)\n",
    "    return freqs\n",
    "\n",
    "pitches = notename2freq(elements,-1,C4)\n",
    "print(pitches)"
   ]
  },
  {
   "cell_type": "code",
   "execution_count": 14,
   "metadata": {
    "collapsed": true
   },
   "outputs": [],
   "source": [
    "reload(notepicker)\n",
    "dur = 20.0\n",
    "scale_note_dur = 1.0\n",
    "\n",
    "p1_freq = notepicker.interpvals_to_freqs(p1,pitches)\n",
    "\n",
    "times, notes, durs = notepicker.findroots(time,p1_freq,pitches)\n",
    "# for t in range(len(times)):\n",
    "#     if times[t] > time[-1]:\n",
    "#         times[t] = time[-1]\n",
    "        \n",
    "# print(times)\n",
    "# print(notes)"
   ]
  },
  {
   "cell_type": "code",
   "execution_count": 15,
   "metadata": {},
   "outputs": [
    {
     "name": "stdout",
     "output_type": "stream",
     "text": [
      "16.0\n",
      "21\n",
      "55\n",
      "34\n",
      "34\n"
     ]
    }
   ],
   "source": [
    "print(time[-1])\n",
    "\n",
    "print(len(pitches))\n",
    "print(len(time))\n",
    "print(len(times))\n",
    "print(len(notes))"
   ]
  },
  {
   "cell_type": "code",
   "execution_count": 19,
   "metadata": {},
   "outputs": [
    {
     "name": "stdout",
     "output_type": "stream",
     "text": [
      "[138.59131549 155.56349186 174.61411572 195.99771799 207.65234879\n",
      " 233.08188076 261.6255653  277.18263098 311.12698372 349.22823143\n",
      " 391.99543598 415.30469758 466.16376152 523.2511306  587.32953583\n",
      " 587.32953583 523.2511306  466.16376152 415.30469758 415.30469758\n",
      " 466.16376152 523.2511306  587.32953583 659.25511383 739.98884542\n",
      " 783.99087196 880.         987.76660251 987.76660251 987.76660251\n",
      " 880.         783.99087196 739.98884542 659.25511383]\n",
      "[  16.97217637   18.01140011   20.21711306   16.51911654   18.54208138\n",
      "   26.98660826   22.05037511   24.75070921   36.02280023   40.43422613\n",
      "   33.03823307   37.08416277   53.97321651   60.58288716   32.03920262\n",
      "  -32.03920262  -60.58288716  -53.97321651  -25.42953197   25.42953197\n",
      "   53.97321651   60.58288716   68.00199161   76.32965479   62.36787907\n",
      "   70.00557729  101.88786527   53.88330126    0.          -53.88330126\n",
      " -101.88786527  -70.00557729  -62.36787907  -80.7337316 ]\n",
      "34\n"
     ]
    },
    {
     "data": {
      "text/plain": [
       "[<matplotlib.lines.Line2D at 0x7f1a3b819ef0>]"
      ]
     },
     "execution_count": 19,
     "metadata": {},
     "output_type": "execute_result"
    },
    {
     "data": {
      "image/png": "[encoded data removed]",
      "text/plain": [
       "<Figure size 432x288 with 1 Axes>"
      ]
     },
     "metadata": {
      "needs_background": "light"
     },
     "output_type": "display_data"
    }
   ],
   "source": [
    "# development\n",
    "print(notes)\n",
    "diff_notes = np.gradient(notes)\n",
    "print(diff_notes)\n",
    "print(len(diff_notes))\n",
    "plt.plot(notes)\n",
    "plt.plot(diff_notes)"
   ]
  },
  {
   "cell_type": "code",
   "execution_count": 33,
   "metadata": {},
   "outputs": [
    {
     "name": "stdout",
     "output_type": "stream",
     "text": [
      "[ 0.05063291]\n",
      "now looping over the next note_times:\n",
      "time = 0.0506329113924\n",
      "ind_time = 0\n",
      "[ 0.52487638  0.66791881  1.02492417]\n",
      "now looping over the next note_times:\n",
      "time = 0.524876377342\n",
      "ind_time = 1\n",
      "time = 0.667918814783\n",
      "ind_time = 2\n",
      "time = 1.02492416882\n",
      "ind_time = 3\n",
      "[ 1.38188731]\n",
      "now looping over the next note_times:\n",
      "time = 1.38188731211\n",
      "ind_time = 4\n",
      "[ 1.5037426]\n",
      "now looping over the next note_times:\n",
      "time = 1.50374259851\n",
      "ind_time = 5\n",
      "[ 1.61891128]\n",
      "now looping over the next note_times:\n",
      "time = 1.61891127956\n",
      "ind_time = 6\n",
      "[  1.84276635  14.07594937  14.15848541]\n",
      "now looping over the next note_times:\n",
      "time = 1.8427663463\n",
      "ind_time = 7\n"
     ]
    },
    {
     "ename": "IndexError",
     "evalue": "index 8 is out of bounds for axis 0 with size 3",
     "output_type": "error",
     "traceback": [
      "\u001b[0;31m---------------------------------------------------------------------------\u001b[0m",
      "\u001b[0;31mIndexError\u001b[0m                                Traceback (most recent call last)",
      "\u001b[0;32m<ipython-input-33-dc27885b51b3>\u001b[0m in \u001b[0;36m<module>\u001b[0;34m()\u001b[0m\n\u001b[1;32m      3\u001b[0m \u001b[0mreload\u001b[0m\u001b[0;34m(\u001b[0m\u001b[0mmDc\u001b[0m\u001b[0;34m)\u001b[0m\u001b[0;34m\u001b[0m\u001b[0;34m\u001b[0m\u001b[0m\n\u001b[1;32m      4\u001b[0m \u001b[0;34m\u001b[0m\u001b[0m\n\u001b[0;32m----> 5\u001b[0;31m \u001b[0mch_notes\u001b[0m\u001b[0;34m,\u001b[0m \u001b[0mch_times\u001b[0m\u001b[0;34m,\u001b[0m \u001b[0mch_durs\u001b[0m \u001b[0;34m=\u001b[0m \u001b[0mmDc\u001b[0m\u001b[0;34m.\u001b[0m\u001b[0mmakeDataChord\u001b[0m\u001b[0;34m(\u001b[0m\u001b[0mpitches\u001b[0m\u001b[0;34m,\u001b[0m\u001b[0mtime\u001b[0m\u001b[0;34m,\u001b[0m\u001b[0mtimes\u001b[0m\u001b[0;34m,\u001b[0m\u001b[0mnotes\u001b[0m\u001b[0;34m)\u001b[0m\u001b[0;34m\u001b[0m\u001b[0;34m\u001b[0m\u001b[0m\n\u001b[0m\u001b[1;32m      6\u001b[0m \u001b[0mprint\u001b[0m\u001b[0;34m(\u001b[0m\u001b[0mlen\u001b[0m\u001b[0;34m(\u001b[0m\u001b[0mch_durs\u001b[0m\u001b[0;34m)\u001b[0m\u001b[0;34m)\u001b[0m\u001b[0;34m\u001b[0m\u001b[0;34m\u001b[0m\u001b[0m\n\u001b[1;32m      7\u001b[0m \u001b[0;34m\u001b[0m\u001b[0m\n",
      "\u001b[0;32m/Users/ben/githole/datamovies/2_modules/makeDataChord_v2.py\u001b[0m in \u001b[0;36mmakeDataChord\u001b[0;34m(pitches, time, times, data_notes)\u001b[0m\n\u001b[1;32m     32\u001b[0m                     \u001b[0mdur\u001b[0m \u001b[0;34m=\u001b[0m \u001b[0mt_end\u001b[0m\u001b[0;34m-\u001b[0m\u001b[0mt\u001b[0m\u001b[0;34m\u001b[0m\u001b[0;34m\u001b[0m\u001b[0m\n\u001b[1;32m     33\u001b[0m                 \u001b[0;32melse\u001b[0m\u001b[0;34m:\u001b[0m\u001b[0;34m\u001b[0m\u001b[0;34m\u001b[0m\u001b[0m\n\u001b[0;32m---> 34\u001b[0;31m                     \u001b[0mdur\u001b[0m \u001b[0;34m=\u001b[0m \u001b[0mnote_times\u001b[0m\u001b[0;34m[\u001b[0m\u001b[0mind_time\u001b[0m\u001b[0;34m+\u001b[0m\u001b[0;36m1\u001b[0m\u001b[0;34m]\u001b[0m \u001b[0;34m-\u001b[0m \u001b[0mt\u001b[0m  \u001b[0;31m#note_times[ind_time]\u001b[0m\u001b[0;34m\u001b[0m\u001b[0;34m\u001b[0m\u001b[0m\n\u001b[0m\u001b[1;32m     35\u001b[0m \u001b[0;34m\u001b[0m\u001b[0m\n\u001b[1;32m     36\u001b[0m                     \u001b[0mch_notes\u001b[0m\u001b[0;34m.\u001b[0m\u001b[0mappend\u001b[0m\u001b[0;34m(\u001b[0m\u001b[0mnote\u001b[0m\u001b[0;34m)\u001b[0m\u001b[0;34m\u001b[0m\u001b[0;34m\u001b[0m\u001b[0m\n",
      "\u001b[0;31mIndexError\u001b[0m: index 8 is out of bounds for axis 0 with size 3"
     ]
    }
   ],
   "source": [
    "# run makeDataChord\n",
    "import makeDataChord_v2 as mDc\n",
    "reload(mDc)\n",
    "\n",
    "ch_notes, ch_times, ch_durs = mDc.makeDataChord(pitches,time,times,notes)\n",
    "print(len(ch_durs))\n",
    "\n",
    "# plot the results: \n",
    "fig = plt.figure(figsize=(10,8))\n",
    "\n",
    "plt.plot(time,p1_freq, 'r-')\n",
    "plt.plot(times,notes,'ko')\n",
    "\n",
    "for i in range(len(ch_notes)):\n",
    "    plt.plot([ch_times[i],ch_times[i]+ch_durs[i]],[ch_notes[i],ch_notes[i]],'k-', linewidth=0.5)"
   ]
  },
  {
   "cell_type": "code",
   "execution_count": 67,
   "metadata": {},
   "outputs": [
    {
     "name": "stdout",
     "output_type": "stream",
     "text": [
      "test_dataChords.sco\n",
      "CMIX found.\n",
      "rtoutput(\"test_dataChords.wav\")\n",
      "\n"
     ]
    }
   ],
   "source": [
    "reload(wRT_wt)\n",
    "base_name = 'test_dataChords'\n",
    "tones_dict = {}\n",
    "tones_dict['times'] = np.asarray(ch_times)\n",
    "tones_dict['notes'] = np.asarray(ch_notes)\n",
    "tones_dict['durs'] = np.asarray(ch_durs)\n",
    "tones_dict['amps'] = np.ones(len(ch_notes))*2000\n",
    "tones_dict['pans'] = np.ones(len(ch_notes))*0.5\n",
    "\n",
    "score_name = wRT_wt.writesco(tones_dict,base_name)"
   ]
  },
  {
   "cell_type": "code",
   "execution_count": 68,
   "metadata": {},
   "outputs": [
    {
     "name": "stdout",
     "output_type": "stream",
     "text": [
      "CMIX < test_dataChords.sco\n",
      "/Users/ben/githole/datamovies/1_codes\n",
      "test_dataChords.sco\n",
      "b'/Users/ben/githole/datamovies/1_codes\\n'\n",
      "/Users/ben/githole/datamovies/1_codes\n",
      "hopefully i just wrote your sound file; is it here?\n",
      "test_dataChords.wav\n"
     ]
    },
    {
     "data": {
      "text/plain": [
       "CompletedProcess(args=['mv', '*.wav', '../3_output_nogit/'], returncode=64)"
      ]
     },
     "execution_count": 68,
     "metadata": {},
     "output_type": "execute_result"
    }
   ],
   "source": [
    "cmix_cmd = 'CMIX < ' + score_name\n",
    "print(cmix_cmd)\n",
    "\n",
    "# the ! tells the notebook to run a command in the terminal (this does not work in a script!)\n",
    "! pwd\n",
    "! ls *.sco\n",
    "# or if that doesnt work, try this: \n",
    "ls_output = sp.check_output(['pwd'])\n",
    "\n",
    "print(ls_output)\n",
    "# but THIS works better ! \n",
    "! pwd\n",
    "\n",
    "runCMIX = sp.Popen(cmix_cmd, shell=True) # if can only be called from a shell, use shell=True\n",
    "runCMIX.wait()\n",
    "print(\"hopefully i just wrote your sound file; is it here?\")\n",
    "! ls *.wav\n",
    "\n",
    "sp.run(['mv', score_name, '../3_output_nogit/'])\n",
    "sp.run('mv *.wav ../3_output_nogit/', shell=True)\n"
   ]
  },
  {
   "cell_type": "code",
   "execution_count": 70,
   "metadata": {
    "collapsed": true
   },
   "outputs": [
    {
     "data": {
      "text/plain": [
       "CompletedProcess(args='mv *.wav ../3_output_nogit/', returncode=0)"
      ]
     },
     "execution_count": 70,
     "metadata": {},
     "output_type": "execute_result"
    }
   ],
   "source": []
  },
  {
   "cell_type": "code",
   "execution_count": null,
   "metadata": {},
   "outputs": [],
   "source": []
  }
 ],
 "metadata": {
  "anaconda-cloud": {},
  "kernelspec": {
   "display_name": "Python 3",
   "language": "python",
   "name": "python3"
  },
  "language_info": {
   "codemirror_mode": {
    "name": "ipython",
    "version": 3
   },
   "file_extension": ".py",
   "mimetype": "text/x-python",
   "name": "python",
   "nbconvert_exporter": "python",
   "pygments_lexer": "ipython3",
   "version": "3.7.1"
  }
 },
 "nbformat": 4,
 "nbformat_minor": 2
}
